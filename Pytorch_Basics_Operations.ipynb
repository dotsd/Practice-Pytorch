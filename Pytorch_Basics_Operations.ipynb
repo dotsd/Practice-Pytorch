{
  "nbformat": 4,
  "nbformat_minor": 0,
  "metadata": {
    "colab": {
      "name": "Pytorch Basics Operations.ipynb",
      "provenance": [],
      "collapsed_sections": [],
      "authorship_tag": "ABX9TyOdx5baqSw1B2HUJ4oWCrEs",
      "include_colab_link": true
    },
    "kernelspec": {
      "name": "python3",
      "display_name": "Python 3"
    },
    "accelerator": "GPU"
  },
  "cells": [
    {
      "cell_type": "markdown",
      "metadata": {
        "id": "view-in-github",
        "colab_type": "text"
      },
      "source": [
        "<a href=\"https://colab.research.google.com/github/ashishpatel26/Pytorch-Learning/blob/main/Pytorch_Basics_Operations.ipynb\" target=\"_parent\"><img src=\"https://colab.research.google.com/assets/colab-badge.svg\" alt=\"Open In Colab\"/></a>"
      ]
    },
    {
      "cell_type": "markdown",
      "metadata": {
        "id": "0UejjJB1QXb8"
      },
      "source": [
        "## Torch\r\n",
        "* Tensors are matrix-like data structures which are essential components in deep learning libraries and efficient computation. \r\n",
        "* **Graphical Processing Units (GPUs)** are especially effective at calculating operations between tensors, and this has spurred the surge in deep learning capability in recent times. \r\n",
        "* In **PyTorch**, tensors can be declared simply in a number of ways:\r\n",
        "![](https://cdn-images-1.medium.com/max/2000/1*_D5ZvufDS38WkhK9rK32hQ.jpeg)"
      ]
    },
    {
      "cell_type": "markdown",
      "metadata": {
        "id": "Wdb44SCCQx1l"
      },
      "source": [
        "**Constuct the 4 X 4 Matrix Empty Matrix**"
      ]
    },
    {
      "cell_type": "code",
      "metadata": {
        "id": "YvvA4u8zQN3b"
      },
      "source": [
        "import torch\r\n",
        "import numpy as np"
      ],
      "execution_count": 1,
      "outputs": []
    },
    {
      "cell_type": "code",
      "metadata": {
        "colab": {
          "base_uri": "https://localhost:8080/"
        },
        "id": "l7fyc6B2RSCI",
        "outputId": "7cbc24b2-a3bb-4804-ebd3-d1deacb072d8"
      },
      "source": [
        "x = torch.empty(4,4)\r\n",
        "x"
      ],
      "execution_count": 2,
      "outputs": [
        {
          "output_type": "execute_result",
          "data": {
            "text/plain": [
              "tensor([[1.0971e-35, 0.0000e+00, 3.3631e-44, 0.0000e+00],\n",
              "        [       nan, 0.0000e+00, 1.1578e+27, 1.1362e+30],\n",
              "        [7.1547e+22, 4.5828e+30, 1.2121e+04, 7.1846e+22],\n",
              "        [9.2198e-39, 7.0374e+22, 3.7630e-36, 0.0000e+00]])"
            ]
          },
          "metadata": {
            "tags": []
          },
          "execution_count": 2
        }
      ]
    },
    {
      "cell_type": "markdown",
      "metadata": {
        "id": "fnzJVRU7ROBI"
      },
      "source": [
        "**Convert to numpy**"
      ]
    },
    {
      "cell_type": "code",
      "metadata": {
        "colab": {
          "base_uri": "https://localhost:8080/"
        },
        "id": "TCsRM2lQRDca",
        "outputId": "b9f9ddce-fc2d-470f-e2d9-bb561ef880b5"
      },
      "source": [
        "x.numpy()"
      ],
      "execution_count": 3,
      "outputs": [
        {
          "output_type": "execute_result",
          "data": {
            "text/plain": [
              "array([[1.09713112e-35, 0.00000000e+00, 3.36311631e-44, 0.00000000e+00],\n",
              "       [           nan, 0.00000000e+00, 1.15783705e+27, 1.13616057e+30],\n",
              "       [7.15473767e+22, 4.58281141e+30, 1.21210947e+04, 7.18458933e+22],\n",
              "       [9.21978159e-39, 7.03735270e+22, 3.76295946e-36, 0.00000000e+00]],\n",
              "      dtype=float32)"
            ]
          },
          "metadata": {
            "tags": []
          },
          "execution_count": 3
        }
      ]
    },
    {
      "cell_type": "markdown",
      "metadata": {
        "id": "oR5FcOwkRa1C"
      },
      "source": [
        "**Size of the Tensor**"
      ]
    },
    {
      "cell_type": "code",
      "metadata": {
        "colab": {
          "base_uri": "https://localhost:8080/"
        },
        "id": "efk-DdDJRYWx",
        "outputId": "c9cdf108-a8b9-44a7-d1da-2635b032bcc6"
      },
      "source": [
        "x.size()"
      ],
      "execution_count": 4,
      "outputs": [
        {
          "output_type": "execute_result",
          "data": {
            "text/plain": [
              "torch.Size([4, 4])"
            ]
          },
          "metadata": {
            "tags": []
          },
          "execution_count": 4
        }
      ]
    },
    {
      "cell_type": "markdown",
      "metadata": {
        "id": "NTvy0tPXRf2z"
      },
      "source": [
        "From numpy to tensor"
      ]
    },
    {
      "cell_type": "code",
      "metadata": {
        "colab": {
          "base_uri": "https://localhost:8080/"
        },
        "id": "6LD9n3ZaRdA_",
        "outputId": "38e1a1f9-67f8-472e-bdd8-e58b2a222d59"
      },
      "source": [
        "a = np.array([[5,7],[7,5]])\r\n",
        "b = torch.from_numpy(a)\r\n",
        "b"
      ],
      "execution_count": 5,
      "outputs": [
        {
          "output_type": "execute_result",
          "data": {
            "text/plain": [
              "tensor([[5, 7],\n",
              "        [7, 5]])"
            ]
          },
          "metadata": {
            "tags": []
          },
          "execution_count": 5
        }
      ]
    },
    {
      "cell_type": "markdown",
      "metadata": {
        "id": "05NAafQ4Sft5"
      },
      "source": [
        "**Direct from Data**"
      ]
    },
    {
      "cell_type": "code",
      "metadata": {
        "colab": {
          "base_uri": "https://localhost:8080/"
        },
        "id": "GkB09zoMSic8",
        "outputId": "9e0ab5fc-37b0-40e0-9269-f6eb7442c3c7"
      },
      "source": [
        "data = [[1,5], [3,4]]\r\n",
        "x_data = torch.tensor(data)\r\n",
        "x_data"
      ],
      "execution_count": 6,
      "outputs": [
        {
          "output_type": "execute_result",
          "data": {
            "text/plain": [
              "tensor([[1, 5],\n",
              "        [3, 4]])"
            ]
          },
          "metadata": {
            "tags": []
          },
          "execution_count": 6
        }
      ]
    },
    {
      "cell_type": "markdown",
      "metadata": {
        "id": "9T2hEjM9S0Fk"
      },
      "source": [
        "**From another tensor:**\r\n",
        "\r\n",
        "The new tensor retains the properties (shape, datatype) of the argument tensor, unless explicitly overridden."
      ]
    },
    {
      "cell_type": "code",
      "metadata": {
        "colab": {
          "base_uri": "https://localhost:8080/"
        },
        "id": "J4b4FqZqS4X3",
        "outputId": "10970ec5-7f04-4afa-d30c-35024ab7afdb"
      },
      "source": [
        "x_ones = torch.ones_like(x_data)\r\n",
        "print(f\"One Tensor : \\n{x_ones}\")\r\n",
        "\r\n",
        "x_rand = torch.rand_like(x_data, dtype=torch.float)\r\n",
        "print(f\"Random Tensor : \\n{x_rand}\")"
      ],
      "execution_count": 7,
      "outputs": [
        {
          "output_type": "stream",
          "text": [
            "One Tensor : \n",
            "tensor([[1, 1],\n",
            "        [1, 1]])\n",
            "Random Tensor : \n",
            "tensor([[0.2983, 0.3927],\n",
            "        [0.0039, 0.6277]])\n"
          ],
          "name": "stdout"
        }
      ]
    },
    {
      "cell_type": "markdown",
      "metadata": {
        "id": "2zrJ0Lb_Tg7p"
      },
      "source": [
        "**Random and Constant Values**\r\n",
        "* `shape` is a tuple of tensor dimensions."
      ]
    },
    {
      "cell_type": "code",
      "metadata": {
        "colab": {
          "base_uri": "https://localhost:8080/"
        },
        "id": "g-jXskKzTsOL",
        "outputId": "97560ad2-3b0a-49e4-c628-5e35a64d73ef"
      },
      "source": [
        "shape = (2,3, )\r\n",
        "print(f\"Random Tensor : \\n{torch.rand(shape)}\")\r\n",
        "print(f\"Ones Tensor : \\n{torch.ones(shape)}\")\r\n",
        "print(f\"Zeros Tensor : \\n{torch.zeros(shape)}\")"
      ],
      "execution_count": 8,
      "outputs": [
        {
          "output_type": "stream",
          "text": [
            "Random Tensor : \n",
            "tensor([[0.2058, 0.6316, 0.9871],\n",
            "        [0.8376, 0.6633, 0.1986]])\n",
            "Ones Tensor : \n",
            "tensor([[1., 1., 1.],\n",
            "        [1., 1., 1.]])\n",
            "Zeros Tensor : \n",
            "tensor([[0., 0., 0.],\n",
            "        [0., 0., 0.]])\n"
          ],
          "name": "stdout"
        }
      ]
    },
    {
      "cell_type": "markdown",
      "metadata": {
        "id": "9IRu-22OUGwh"
      },
      "source": [
        "### Tensor Attributes\r\n",
        "* Tensor attributes describe their shape, datatype, and the device on which they are stored."
      ]
    },
    {
      "cell_type": "code",
      "metadata": {
        "colab": {
          "base_uri": "https://localhost:8080/"
        },
        "id": "6M5mVTCrUOQ0",
        "outputId": "f26229c3-f922-44d6-e818-1c2b6483db11"
      },
      "source": [
        "tensor = torch.rand(3,4)\r\n",
        "print(f\"Shape of the Tensor: {tensor.shape}\")\r\n",
        "print(f\"Datatypes of the tensor: {tensor.dtype}\")\r\n",
        "print(f\"Device tensor is stored on: {tensor.device}\")"
      ],
      "execution_count": 9,
      "outputs": [
        {
          "output_type": "stream",
          "text": [
            "Shape of the Tensor: torch.Size([3, 4])\n",
            "Datatypes of the tensor: torch.float32\n",
            "Device tensor is stored on: cpu\n"
          ],
          "name": "stdout"
        }
      ]
    },
    {
      "cell_type": "markdown",
      "metadata": {
        "id": "qU2vYxseR7sL"
      },
      "source": [
        "### Tensor Operation\r\n",
        "* Over 100 tensor operations, including transposing, indexing, slicing, mathematical operations, linear algebra, random sampling, and more are comprehensively described [here](https://pytorch.org/docs/stable/torch.html)."
      ]
    },
    {
      "cell_type": "code",
      "metadata": {
        "id": "va24-cqQRvgu"
      },
      "source": [
        "if torch.cuda.is_available():\r\n",
        "  tensor = tensor.to('cuda')"
      ],
      "execution_count": 10,
      "outputs": []
    },
    {
      "cell_type": "markdown",
      "metadata": {
        "id": "Wtbyd6rcV4lS"
      },
      "source": [
        "**Basic Tensor Operation**\r\n",
        "![](https://devblogs.nvidia.com/wp-content/uploads/2018/05/tesnor_core_diagram.png)\r\n",
        "\r\n",
        "* Addition(`torch.add()`)\r\n",
        "* Substraction(`torch.sub()`)\r\n",
        "* Division(`torch.div()`)\r\n",
        "* Multiplication(`torch.mul()`)"
      ]
    },
    {
      "cell_type": "code",
      "metadata": {
        "colab": {
          "base_uri": "https://localhost:8080/"
        },
        "id": "fXNbTx4aVcUp",
        "outputId": "ae1afcbe-e633-4db8-825a-8b9cdf1de4fd"
      },
      "source": [
        "# Initialization\r\n",
        "a = torch.rand(2,2)\r\n",
        "b = torch.rand(2,2)\r\n",
        "\r\n",
        "# Old Method\r\n",
        "print(a + b)\r\n",
        "\r\n",
        "# New Method\r\n",
        "print(torch.add(a,b))"
      ],
      "execution_count": 11,
      "outputs": [
        {
          "output_type": "stream",
          "text": [
            "tensor([[0.8596, 0.6325],\n",
            "        [1.3522, 1.2812]])\n",
            "tensor([[0.8596, 0.6325],\n",
            "        [1.3522, 1.2812]])\n"
          ],
          "name": "stdout"
        }
      ]
    },
    {
      "cell_type": "code",
      "metadata": {
        "colab": {
          "base_uri": "https://localhost:8080/"
        },
        "id": "-hxuCTXyXr1j",
        "outputId": "68c11552-f663-44de-c03e-d27bf0d26e48"
      },
      "source": [
        "# Old Method\r\n",
        "print(a - b)\r\n",
        "# New Method\r\n",
        "print(torch.sub(a,b))"
      ],
      "execution_count": 12,
      "outputs": [
        {
          "output_type": "stream",
          "text": [
            "tensor([[ 0.4392, -0.0259],\n",
            "        [ 0.1830, -0.0342]])\n",
            "tensor([[ 0.4392, -0.0259],\n",
            "        [ 0.1830, -0.0342]])\n"
          ],
          "name": "stdout"
        }
      ]
    },
    {
      "cell_type": "code",
      "metadata": {
        "colab": {
          "base_uri": "https://localhost:8080/"
        },
        "id": "TzCwZV1vYIJa",
        "outputId": "a8da91c3-1ddc-4b58-ad36-e05c984ea5a3"
      },
      "source": [
        "# Old Method\r\n",
        "print(a * b)\r\n",
        "\r\n",
        "# New Method\r\n",
        "print(torch.mul(a,b))"
      ],
      "execution_count": 13,
      "outputs": [
        {
          "output_type": "stream",
          "text": [
            "tensor([[0.1365, 0.0998],\n",
            "        [0.4487, 0.4101]])\n",
            "tensor([[0.1365, 0.0998],\n",
            "        [0.4487, 0.4101]])\n"
          ],
          "name": "stdout"
        }
      ]
    },
    {
      "cell_type": "code",
      "metadata": {
        "colab": {
          "base_uri": "https://localhost:8080/"
        },
        "id": "lCKV5GooYWir",
        "outputId": "0953384a-c1a8-4c9e-bc00-688f6fa3c296"
      },
      "source": [
        "# Old Method\r\n",
        "print(a / b)\r\n",
        "# New Method\r\n",
        "print(torch.div(a,b))"
      ],
      "execution_count": 14,
      "outputs": [
        {
          "output_type": "stream",
          "text": [
            "tensor([[3.0897, 0.9213],\n",
            "        [1.3130, 0.9480]])\n",
            "tensor([[3.0897, 0.9213],\n",
            "        [1.3130, 0.9480]])\n"
          ],
          "name": "stdout"
        }
      ]
    },
    {
      "cell_type": "markdown",
      "metadata": {
        "id": "cMwHWjtvYgIm"
      },
      "source": [
        "**Add x to y**"
      ]
    },
    {
      "cell_type": "code",
      "metadata": {
        "colab": {
          "base_uri": "https://localhost:8080/"
        },
        "id": "nTcTry62Ydx0",
        "outputId": "1b24e07c-b532-4cc4-8bc8-7cae153248e6"
      },
      "source": [
        "# a directly add to b and answer stored in b\r\n",
        "print(f\"b value before adding into a : \\n{b}\")\r\n",
        "b.add_(a)\r\n",
        "print(f\"b value after adding into a : \\n{b}\")"
      ],
      "execution_count": 15,
      "outputs": [
        {
          "output_type": "stream",
          "text": [
            "b value before adding into a : \n",
            "tensor([[0.2102, 0.3292],\n",
            "        [0.5846, 0.6577]])\n",
            "b value after adding into a : \n",
            "tensor([[0.8596, 0.6325],\n",
            "        [1.3522, 1.2812]])\n"
          ],
          "name": "stdout"
        }
      ]
    },
    {
      "cell_type": "markdown",
      "metadata": {
        "id": "GWZRoA9xY5EQ"
      },
      "source": [
        "**Standard Numpy like Indexing**"
      ]
    },
    {
      "cell_type": "code",
      "metadata": {
        "colab": {
          "base_uri": "https://localhost:8080/"
        },
        "id": "O-hpiL15Y1-D",
        "outputId": "14ace5a7-fd07-45b3-be1a-d14b99ab210f"
      },
      "source": [
        "print(f\"Column 0 : {a[:,0]}\")\r\n",
        "print(f\"Column 1 : {a[:,1]}\")"
      ],
      "execution_count": 16,
      "outputs": [
        {
          "output_type": "stream",
          "text": [
            "Column 0 : tensor([0.6494, 0.7676])\n",
            "Column 1 : tensor([0.3033, 0.6235])\n"
          ],
          "name": "stdout"
        }
      ]
    },
    {
      "cell_type": "markdown",
      "metadata": {
        "id": "Jtp1HXjLZ1j1"
      },
      "source": [
        "**Resizing**"
      ]
    },
    {
      "cell_type": "code",
      "metadata": {
        "colab": {
          "base_uri": "https://localhost:8080/"
        },
        "id": "hO4G9voCY_F4",
        "outputId": "6cccab1d-673f-4b3a-a852-e29670ea6e89"
      },
      "source": [
        "x = torch.rand(4,4)\r\n",
        "print(f\"x: \\n{x}\")\r\n",
        "y = x.view(16) # View is used to flatten the tensor\r\n",
        "print(f\"y : \\n{y}\")\r\n",
        "z = x.view(-1, 8) # the size -1 is inferred from other dimensions\r\n",
        "print(f\"z : \\n{z}\")\r\n",
        "print(f\"Size of x : {x.size()}\\nSize of y : {y.size()}\\nSize of z : {z.size()}\")"
      ],
      "execution_count": 17,
      "outputs": [
        {
          "output_type": "stream",
          "text": [
            "x: \n",
            "tensor([[0.8835, 0.5047, 0.2787, 0.9761],\n",
            "        [0.9460, 0.3592, 0.1743, 0.8999],\n",
            "        [0.2073, 0.2837, 0.7666, 0.8635],\n",
            "        [0.7287, 0.7309, 0.7148, 0.4072]])\n",
            "y : \n",
            "tensor([0.8835, 0.5047, 0.2787, 0.9761, 0.9460, 0.3592, 0.1743, 0.8999, 0.2073,\n",
            "        0.2837, 0.7666, 0.8635, 0.7287, 0.7309, 0.7148, 0.4072])\n",
            "z : \n",
            "tensor([[0.8835, 0.5047, 0.2787, 0.9761, 0.9460, 0.3592, 0.1743, 0.8999],\n",
            "        [0.2073, 0.2837, 0.7666, 0.8635, 0.7287, 0.7309, 0.7148, 0.4072]])\n",
            "Size of x : torch.Size([4, 4])\n",
            "Size of y : torch.Size([16])\n",
            "Size of z : torch.Size([2, 8])\n"
          ],
          "name": "stdout"
        }
      ]
    },
    {
      "cell_type": "markdown",
      "metadata": {
        "id": "XRScor2SbdwR"
      },
      "source": [
        "---\r\n",
        "Note : Any operation that mutates a tensor in-place is post-fixed with an . For example: `x.copy_(y)`, `x.t_()`, will change x.\r\n",
        "for more about tensor go on this link : https://pytorch.org/docs/stable/tensors.html\r\n",
        "\r\n",
        "\r\n",
        "---"
      ]
    },
    {
      "cell_type": "markdown",
      "metadata": {
        "id": "B6kTlu2A5Zsi"
      },
      "source": [
        "**Joining Tensor**"
      ]
    },
    {
      "cell_type": "code",
      "metadata": {
        "colab": {
          "base_uri": "https://localhost:8080/"
        },
        "id": "ZUbHHrWZ5oIH",
        "outputId": "06c953a5-4279-443b-a609-53633f3f4bb1"
      },
      "source": [
        "tensor = torch.ones(4, 4)\r\n",
        "tensor[:,1] = 0\r\n",
        "print(tensor)"
      ],
      "execution_count": 19,
      "outputs": [
        {
          "output_type": "stream",
          "text": [
            "tensor([[1., 0., 1., 1.],\n",
            "        [1., 0., 1., 1.],\n",
            "        [1., 0., 1., 1.],\n",
            "        [1., 0., 1., 1.]])\n"
          ],
          "name": "stdout"
        }
      ]
    },
    {
      "cell_type": "code",
      "metadata": {
        "colab": {
          "base_uri": "https://localhost:8080/"
        },
        "id": "yF8TJErz5XKK",
        "outputId": "3591dbbc-dce8-4b2c-96df-30c7313cf682"
      },
      "source": [
        "t1 = torch.cat([tensor,tensor,tensor], dim=1)\r\n",
        "print(t1)"
      ],
      "execution_count": 20,
      "outputs": [
        {
          "output_type": "stream",
          "text": [
            "tensor([[1., 0., 1., 1., 1., 0., 1., 1., 1., 0., 1., 1.],\n",
            "        [1., 0., 1., 1., 1., 0., 1., 1., 1., 0., 1., 1.],\n",
            "        [1., 0., 1., 1., 1., 0., 1., 1., 1., 0., 1., 1.],\n",
            "        [1., 0., 1., 1., 1., 0., 1., 1., 1., 0., 1., 1.]])\n"
          ],
          "name": "stdout"
        }
      ]
    },
    {
      "cell_type": "markdown",
      "metadata": {
        "id": "ElxJSXc05rLZ"
      },
      "source": [
        "**Multiplying Tensor**"
      ]
    },
    {
      "cell_type": "code",
      "metadata": {
        "colab": {
          "base_uri": "https://localhost:8080/"
        },
        "id": "g-sDPqka5hti",
        "outputId": "f1bc56d5-5c76-45fa-a255-4fbcb48b0593"
      },
      "source": [
        "# This is computes the element-wise product\r\n",
        "print(f\"tensor.mul(tensor) : \\n {tensor.mul(tensor)}\")\r\n",
        "# Alternative syntax \r\n",
        "print(f\"tensor * tensor : \\n {tensor * tensor}\")"
      ],
      "execution_count": 22,
      "outputs": [
        {
          "output_type": "stream",
          "text": [
            "tensor.mul(tensor) : \n",
            " tensor([[1., 0., 1., 1.],\n",
            "        [1., 0., 1., 1.],\n",
            "        [1., 0., 1., 1.],\n",
            "        [1., 0., 1., 1.]])\n",
            "tensor * tensor : \n",
            " tensor([[1., 0., 1., 1.],\n",
            "        [1., 0., 1., 1.],\n",
            "        [1., 0., 1., 1.],\n",
            "        [1., 0., 1., 1.]])\n"
          ],
          "name": "stdout"
        }
      ]
    },
    {
      "cell_type": "markdown",
      "metadata": {
        "id": "Dt8C3A6G6ENL"
      },
      "source": [
        "**Matrix Multiplication**"
      ]
    },
    {
      "cell_type": "code",
      "metadata": {
        "colab": {
          "base_uri": "https://localhost:8080/"
        },
        "id": "rYWqn5ZX5-Ea",
        "outputId": "ba9ba230-2449-4e02-c5d6-9714c5de2171"
      },
      "source": [
        "print(f\"tensor.matmul(tensor.T) \\n {tensor.matmul(tensor.T)} \\n\")\r\n",
        "# Alternative syntax:\r\n",
        "print(f\"tensor @ tensor.T \\n {tensor @ tensor.T}\")"
      ],
      "execution_count": 23,
      "outputs": [
        {
          "output_type": "stream",
          "text": [
            "tensor.matmul(tensor.T) \n",
            " tensor([[3., 3., 3., 3.],\n",
            "        [3., 3., 3., 3.],\n",
            "        [3., 3., 3., 3.],\n",
            "        [3., 3., 3., 3.]]) \n",
            "\n",
            "tensor @ tensor.T \n",
            " tensor([[3., 3., 3., 3.],\n",
            "        [3., 3., 3., 3.],\n",
            "        [3., 3., 3., 3.],\n",
            "        [3., 3., 3., 3.]])\n"
          ],
          "name": "stdout"
        }
      ]
    },
    {
      "cell_type": "markdown",
      "metadata": {
        "id": "kt2QKHqZ6Tlf"
      },
      "source": [
        "**Bridge with Numpy**"
      ]
    },
    {
      "cell_type": "code",
      "metadata": {
        "colab": {
          "base_uri": "https://localhost:8080/"
        },
        "id": "kXRpjVH36KMO",
        "outputId": "2c122e0d-6ca3-4a8c-af3e-93a855f4168b"
      },
      "source": [
        "t = torch.ones(5)\r\n",
        "print(f\"t: {t}\")\r\n",
        "n = t.numpy()\r\n",
        "print(f\"n: {n}\")"
      ],
      "execution_count": 26,
      "outputs": [
        {
          "output_type": "stream",
          "text": [
            "t: tensor([1., 1., 1., 1., 1.])\n",
            "n: [1. 1. 1. 1. 1.]\n"
          ],
          "name": "stdout"
        }
      ]
    },
    {
      "cell_type": "code",
      "metadata": {
        "colab": {
          "base_uri": "https://localhost:8080/"
        },
        "id": "1D3-GiBe6f0m",
        "outputId": "df3dc7eb-6a27-4a24-97a6-b20e052c07c3"
      },
      "source": [
        "t.add_(1) #inplace with adding 1 to tensor\r\n",
        "print(f\"t: {t}\")\r\n",
        "print(f\"n: {n}\")"
      ],
      "execution_count": 27,
      "outputs": [
        {
          "output_type": "stream",
          "text": [
            "t: tensor([2., 2., 2., 2., 2.])\n",
            "n: [2. 2. 2. 2. 2.]\n"
          ],
          "name": "stdout"
        }
      ]
    }
  ]
}