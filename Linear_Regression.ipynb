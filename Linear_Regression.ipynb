{
  "nbformat": 4,
  "nbformat_minor": 0,
  "metadata": {
    "accelerator": "GPU",
    "colab": {
      "name": "Linear Regression.ipynb",
      "provenance": [],
      "collapsed_sections": [],
      "machine_shape": "hm",
      "include_colab_link": true
    },
    "kernelspec": {
      "display_name": "Python 3",
      "name": "python3"
    }
  },
  "cells": [
    {
      "cell_type": "markdown",
      "metadata": {
        "id": "view-in-github",
        "colab_type": "text"
      },
      "source": [
        "<a href=\"https://colab.research.google.com/github/ashishpatel26/Pytorch-Learning/blob/main/Linear_Regression.ipynb\" target=\"_parent\"><img src=\"https://colab.research.google.com/assets/colab-badge.svg\" alt=\"Open In Colab\"/></a>"
      ]
    },
    {
      "cell_type": "markdown",
      "metadata": {
        "id": "oBLfi1mp1JnR"
      },
      "source": [
        "### Linear Regression\n",
        "\n",
        "Simple Linear Regression Basics¶\n",
        "* Allows us to understand relationship between two continuous variables\n",
        "* **Example**\n",
        "* x: independent variable\n",
        "  * weight\n",
        "* y: dependent variable\n",
        "  * height\n",
        "* y = α x + β"
      ]
    },
    {
      "cell_type": "code",
      "metadata": {
        "colab": {
          "base_uri": "https://localhost:8080/"
        },
        "id": "pJbYXou6chZf",
        "outputId": "4ac4e7ba-a9c2-40df-bf2c-f97e61e706a5"
      },
      "source": [
        "!nvidia-smi"
      ],
      "execution_count": null,
      "outputs": [
        {
          "output_type": "stream",
          "text": [
            "Thu Mar 18 08:30:47 2021       \n",
            "+-----------------------------------------------------------------------------+\n",
            "| NVIDIA-SMI 460.56       Driver Version: 460.32.03    CUDA Version: 11.2     |\n",
            "|-------------------------------+----------------------+----------------------+\n",
            "| GPU  Name        Persistence-M| Bus-Id        Disp.A | Volatile Uncorr. ECC |\n",
            "| Fan  Temp  Perf  Pwr:Usage/Cap|         Memory-Usage | GPU-Util  Compute M. |\n",
            "|                               |                      |               MIG M. |\n",
            "|===============================+======================+======================|\n",
            "|   0  Tesla P100-PCIE...  Off  | 00000000:00:04.0 Off |                    0 |\n",
            "| N/A   42C    P0    27W / 250W |      0MiB / 16280MiB |      0%      Default |\n",
            "|                               |                      |                  N/A |\n",
            "+-------------------------------+----------------------+----------------------+\n",
            "                                                                               \n",
            "+-----------------------------------------------------------------------------+\n",
            "| Processes:                                                                  |\n",
            "|  GPU   GI   CI        PID   Type   Process name                  GPU Memory |\n",
            "|        ID   ID                                                   Usage      |\n",
            "|=============================================================================|\n",
            "|  No running processes found                                                 |\n",
            "+-----------------------------------------------------------------------------+\n"
          ],
          "name": "stdout"
        }
      ]
    },
    {
      "cell_type": "code",
      "metadata": {
        "id": "mNsa0yBj1d-k"
      },
      "source": [
        "import numpy as np\n",
        "import matplotlib.pyplot as plt\n",
        "%matplotlib inline"
      ],
      "execution_count": 30,
      "outputs": []
    },
    {
      "cell_type": "code",
      "metadata": {
        "id": "HqPdGB4v1lzS"
      },
      "source": [
        "np.random.seed(2021)\n",
        "n = 50"
      ],
      "execution_count": 31,
      "outputs": []
    },
    {
      "cell_type": "code",
      "metadata": {
        "id": "VlIWKyxW1ozH"
      },
      "source": [
        "x = np.random.randn(n)\n",
        "y = x * np.random.randn(n)"
      ],
      "execution_count": 32,
      "outputs": []
    },
    {
      "cell_type": "code",
      "metadata": {
        "id": "vy-V4ilw10oU"
      },
      "source": [
        "colors = np.random.rand(n)"
      ],
      "execution_count": 33,
      "outputs": []
    },
    {
      "cell_type": "code",
      "metadata": {
        "colab": {
          "base_uri": "https://localhost:8080/",
          "height": 265
        },
        "id": "QE8gTd2513Py",
        "outputId": "743bc27d-a2b6-435a-bfd6-8b03e2339af0"
      },
      "source": [
        "plt.plot(np.unique(x), np.poly1d(np.polyfit(x,y,1))(np.unique(x)))\n",
        "plt.scatter(x,y, c=colors, alpha = 0.5)\n",
        "plt.show()"
      ],
      "execution_count": 35,
      "outputs": [
        {
          "output_type": "display_data",
          "data": {
            "image/png": "[encoded data removed]",
            "text/plain": [
              "<Figure size 432x288 with 1 Axes>"
            ]
          },
          "metadata": {
            "tags": [],
            "needs_background": "light"
          }
        }
      ]
    },
    {
      "cell_type": "markdown",
      "metadata": {
        "id": "_YPn8f912b4z"
      },
      "source": [
        "### Building Linear regression with Pytorch"
      ]
    },
    {
      "cell_type": "code",
      "metadata": {
        "id": "KKSJgYxL2Kii"
      },
      "source": [
        "x_values = [i for i in range(11)]"
      ],
      "execution_count": 36,
      "outputs": []
    },
    {
      "cell_type": "code",
      "metadata": {
        "colab": {
          "base_uri": "https://localhost:8080/"
        },
        "id": "T5H9Vr5h2jRq",
        "outputId": "51a458af-0179-48a3-f869-a18db35f4f61"
      },
      "source": [
        "x_values"
      ],
      "execution_count": 37,
      "outputs": [
        {
          "output_type": "execute_result",
          "data": {
            "text/plain": [
              "[0, 1, 2, 3, 4, 5, 6, 7, 8, 9, 10]"
            ]
          },
          "metadata": {
            "tags": []
          },
          "execution_count": 37
        }
      ]
    },
    {
      "cell_type": "code",
      "metadata": {
        "colab": {
          "base_uri": "https://localhost:8080/"
        },
        "id": "NZqI2V7Y2j7D",
        "outputId": "0d69a04e-1b65-4118-fec3-9d6ea4cfade3"
      },
      "source": [
        "x_train = np.array(x_values, dtype=np.float32)\n",
        "x_train.shape"
      ],
      "execution_count": 40,
      "outputs": [
        {
          "output_type": "execute_result",
          "data": {
            "text/plain": [
              "(11,)"
            ]
          },
          "metadata": {
            "tags": []
          },
          "execution_count": 40
        }
      ]
    },
    {
      "cell_type": "code",
      "metadata": {
        "colab": {
          "base_uri": "https://localhost:8080/"
        },
        "id": "a3K8Wlii2tXi",
        "outputId": "89e164e0-700d-41b7-aae1-c465260b0dee"
      },
      "source": [
        "x_train = x_train.reshape(-1,1)\n",
        "x_train.shape"
      ],
      "execution_count": 41,
      "outputs": [
        {
          "output_type": "execute_result",
          "data": {
            "text/plain": [
              "(11, 1)"
            ]
          },
          "metadata": {
            "tags": []
          },
          "execution_count": 41
        }
      ]
    },
    {
      "cell_type": "markdown",
      "metadata": {
        "id": "E8uKlU2n3rB3"
      },
      "source": [
        "### Formula\n",
        "\n",
        "$y = 2x + 1$"
      ]
    },
    {
      "cell_type": "code",
      "metadata": {
        "id": "sr-l_q6_25dk"
      },
      "source": [
        "y_values = []\n",
        "for i in x_values:\n",
        "  result = 2 * i + 1\n",
        "  y_values.append(result)"
      ],
      "execution_count": 42,
      "outputs": []
    },
    {
      "cell_type": "code",
      "metadata": {
        "colab": {
          "base_uri": "https://localhost:8080/"
        },
        "id": "MtIPG4Uj4L8R",
        "outputId": "a9bd57dd-eda6-4b96-a3f6-1e509c7673e3"
      },
      "source": [
        "y_train = np.array(y_values, dtype = np.float32)\n",
        "y_train  = y_train.reshape(-1,1)\n",
        "y_train.shape"
      ],
      "execution_count": 45,
      "outputs": [
        {
          "output_type": "execute_result",
          "data": {
            "text/plain": [
              "(11, 1)"
            ]
          },
          "metadata": {
            "tags": []
          },
          "execution_count": 45
        }
      ]
    },
    {
      "cell_type": "markdown",
      "metadata": {
        "id": "nZEkV5vB4ipS"
      },
      "source": [
        "## Building Model"
      ]
    },
    {
      "cell_type": "code",
      "metadata": {
        "id": "4EU_L1jS4S4a"
      },
      "source": [
        "import torch\n",
        "import torch.nn as nn"
      ],
      "execution_count": 46,
      "outputs": []
    },
    {
      "cell_type": "code",
      "metadata": {
        "id": "JbFt3p264o8m"
      },
      "source": [
        "class LinearRegression(nn.Module):\n",
        "  def __init__(self, input_dim, output_dim):\n",
        "    super(LinearRegression, self).__init__()\n",
        "    self.linear = nn.Linear(input_dim, output_dim)\n",
        "\n",
        "  def forward(self, x):\n",
        "    out = self.linear(x)\n",
        "    return out"
      ],
      "execution_count": 47,
      "outputs": []
    },
    {
      "cell_type": "markdown",
      "metadata": {
        "id": "zdWVT-NL5bVV"
      },
      "source": [
        "* input: [0, 1, 2, 3, 4, 5, 6, 7, 8, 9, 10]\n",
        "* desired output: [1, 3, 5, 7, 9, 11, 13, 15, 17, 19, 21]"
      ]
    },
    {
      "cell_type": "code",
      "metadata": {
        "id": "qiCFEyrB5CFQ"
      },
      "source": [
        "input_dim = 1\n",
        "output_dim = 1"
      ],
      "execution_count": 49,
      "outputs": []
    },
    {
      "cell_type": "code",
      "metadata": {
        "id": "QhBne1BL5GLy"
      },
      "source": [
        "model = LinearRegression(input_dim, output_dim)\n",
        "\n",
        "criterion = nn.MSELoss()\n",
        "\n",
        "learning_rate = 0.01\n",
        "\n",
        "optimizer = torch.optim.SGD(model.parameters(), lr = learning_rate)"
      ],
      "execution_count": 53,
      "outputs": []
    },
    {
      "cell_type": "code",
      "metadata": {
        "colab": {
          "base_uri": "https://localhost:8080/"
        },
        "id": "rm6RHw5F9MLF",
        "outputId": "adc4cb2a-71bb-461c-a148-4ebc3d40c173"
      },
      "source": [
        "!pip install pkbar"
      ],
      "execution_count": 59,
      "outputs": [
        {
          "output_type": "stream",
          "text": [
            "Collecting pkbar\n",
            "  Downloading https://files.pythonhosted.org/packages/95/8f/28e0a21b27f836a8903315050db17dd68e55bf477b6fde52d1c68da3c8a6/pkbar-0.5-py3-none-any.whl\n",
            "Requirement already satisfied: numpy in /usr/local/lib/python3.7/dist-packages (from pkbar) (1.19.5)\n",
            "Installing collected packages: pkbar\n",
            "Successfully installed pkbar-0.5\n"
          ],
          "name": "stdout"
        }
      ]
    },
    {
      "cell_type": "code",
      "metadata": {
        "colab": {
          "base_uri": "https://localhost:8080/"
        },
        "id": "8ECYJDUp5OSA",
        "outputId": "993c73e4-2923-4a21-977e-5ffa669d02fb"
      },
      "source": [
        "import pkbar\n",
        "train_per_epoch = 100\n",
        "num_epochs = 100\n",
        "for epoch in range(num_epochs):\n",
        "\n",
        "  kbar = pkbar.Kbar(target=train_per_epoch, epoch=epoch, num_epochs=num_epochs, width=8, always_stateful=False)\n",
        "\n",
        "  epoch += 1\n",
        "\n",
        "  # Convert nparray into torch variable\n",
        "  inputs = torch.from_numpy(x_train).requires_grad_()\n",
        "  labels = torch.from_numpy(y_train)\n",
        "\n",
        "  # training\n",
        "  for i in range(train_per_epoch):\n",
        "    # clear gradient w.r.t parameters\n",
        "    optimizer.zero_grad()\n",
        "\n",
        "    # forward to get output\n",
        "    outputs = model(inputs)\n",
        "\n",
        "    # calculate loss\n",
        "    loss = criterion(outputs, labels)\n",
        "    rmse = torch.sqrt(loss)\n",
        "\n",
        "    # getting gradient wrt parameter\n",
        "    loss.backward()\n",
        "\n",
        "    # updating parameters\n",
        "    optimizer.step()\n",
        "\n",
        "    ############################# Update after each batch ##################################\n",
        "    kbar.update(i, values=[(\"loss\", loss), (\"rmse\", rmse)])\n",
        "    ########################################################################################\n",
        "\n",
        "  # print(f'epoch: {epoch}, loss: {loss.item()}')\n",
        "  # validation\n",
        "  outputs = model(inputs)\n",
        "  val_loss = criterion(outputs, labels)\n",
        "  val_rmse = torch.sqrt(val_loss)\n",
        "\n",
        "  ################################ Add validation metrics ###################################\n",
        "  kbar.add(1, values=[(\"val_loss\", val_loss), (\"val_rmse\", val_rmse)])\n",
        "  ###########################################################################################"
      ],
      "execution_count": 62,
      "outputs": [
        {
          "output_type": "stream",
          "text": [
            "Epoch: 1/100\n",
            "100/100 [========] - 0s 617us/step - loss: 1.5779e-04 - rmse: 0.0124 - val_loss: 8.5524e-05 - val_rmse: 0.0092\n",
            "Epoch: 2/100\n",
            "100/100 [========] - 0s 427us/step - loss: 5.1332e-05 - rmse: 0.0071 - val_loss: 2.7825e-05 - val_rmse: 0.0053\n",
            "Epoch: 3/100\n",
            "100/100 [========] - 0s 418us/step - loss: 1.6700e-05 - rmse: 0.0040 - val_loss: 9.0508e-06 - val_rmse: 0.0030\n",
            "Epoch: 4/100\n",
            "100/100 [========] - 0s 414us/step - loss: 5.4327e-06 - rmse: 0.0023 - val_loss: 2.9447e-06 - val_rmse: 0.0017\n",
            "Epoch: 5/100\n",
            "100/100 [========] - 0s 425us/step - loss: 1.7673e-06 - rmse: 0.0013 - val_loss: 9.5771e-07 - val_rmse: 9.7863e-04\n",
            "Epoch: 6/100\n",
            "100/100 [========] - 0s 452us/step - loss: 5.7496e-07 - rmse: 7.4874e-04 - val_loss: 3.1161e-07 - val_rmse: 5.5822e-04\n",
            "Epoch: 7/100\n",
            "100/100 [========] - 0s 429us/step - loss: 1.8705e-07 - rmse: 4.2705e-04 - val_loss: 1.0137e-07 - val_rmse: 3.1838e-04\n",
            "Epoch: 8/100\n",
            "100/100 [========] - 0s 431us/step - loss: 6.0866e-08 - rmse: 2.4362e-04 - val_loss: 3.3019e-08 - val_rmse: 1.8171e-04\n",
            "Epoch: 9/100\n",
            "100/100 [========] - 0s 417us/step - loss: 1.9837e-08 - rmse: 1.3908e-04 - val_loss: 1.0718e-08 - val_rmse: 1.0353e-04\n",
            "Epoch: 10/100\n",
            "100/100 [========] - 0s 389us/step - loss: 6.4641e-09 - rmse: 7.9397e-05 - val_loss: 3.5160e-09 - val_rmse: 5.9296e-05\n",
            "Epoch: 11/100\n",
            "100/100 [========] - 0s 401us/step - loss: 2.1149e-09 - rmse: 4.5416e-05 - val_loss: 1.1651e-09 - val_rmse: 3.4133e-05\n",
            "Epoch: 12/100\n",
            "100/100 [========] - 0s 413us/step - loss: 6.9972e-10 - rmse: 2.6138e-05 - val_loss: 3.8752e-10 - val_rmse: 1.9685e-05\n",
            "Epoch: 13/100\n",
            "100/100 [========] - 0s 413us/step - loss: 2.3514e-10 - rmse: 1.5157e-05 - val_loss: 1.3132e-10 - val_rmse: 1.1459e-05\n",
            "Epoch: 14/100\n",
            "100/100 [========] - 0s 405us/step - loss: 8.0994e-11 - rmse: 8.9116e-06 - val_loss: 4.9867e-11 - val_rmse: 7.0617e-06\n",
            "Epoch: 15/100\n",
            "100/100 [========] - 0s 399us/step - loss: 3.1033e-11 - rmse: 5.4971e-06 - val_loss: 1.5594e-11 - val_rmse: 3.9489e-06\n",
            "Epoch: 16/100\n",
            "100/100 [========] - 0s 408us/step - loss: 1.5594e-11 - rmse: 3.9489e-06 - val_loss: 1.5594e-11 - val_rmse: 3.9489e-06\n",
            "Epoch: 17/100\n",
            "100/100 [========] - 0s 410us/step - loss: 1.5594e-11 - rmse: 3.9489e-06 - val_loss: 1.5594e-11 - val_rmse: 3.9489e-06\n",
            "Epoch: 18/100\n",
            "100/100 [========] - 0s 423us/step - loss: 1.5594e-11 - rmse: 3.9489e-06 - val_loss: 1.5594e-11 - val_rmse: 3.9489e-06\n",
            "Epoch: 19/100\n",
            "100/100 [========] - 0s 410us/step - loss: 1.5594e-11 - rmse: 3.9489e-06 - val_loss: 1.5594e-11 - val_rmse: 3.9489e-06\n",
            "Epoch: 20/100\n",
            "100/100 [========] - 0s 404us/step - loss: 1.5594e-11 - rmse: 3.9489e-06 - val_loss: 1.5594e-11 - val_rmse: 3.9489e-06\n",
            "Epoch: 21/100\n",
            "100/100 [========] - 0s 409us/step - loss: 1.5594e-11 - rmse: 3.9489e-06 - val_loss: 1.5594e-11 - val_rmse: 3.9489e-06\n",
            "Epoch: 22/100\n",
            "100/100 [========] - 0s 416us/step - loss: 1.5594e-11 - rmse: 3.9489e-06 - val_loss: 1.5594e-11 - val_rmse: 3.9489e-06\n",
            "Epoch: 23/100\n",
            "100/100 [========] - 0s 410us/step - loss: 1.5594e-11 - rmse: 3.9489e-06 - val_loss: 1.5594e-11 - val_rmse: 3.9489e-06\n",
            "Epoch: 24/100\n",
            "100/100 [========] - 0s 422us/step - loss: 1.5594e-11 - rmse: 3.9489e-06 - val_loss: 1.5594e-11 - val_rmse: 3.9489e-06\n",
            "Epoch: 25/100\n",
            "100/100 [========] - 0s 403us/step - loss: 1.5594e-11 - rmse: 3.9489e-06 - val_loss: 1.5594e-11 - val_rmse: 3.9489e-06\n",
            "Epoch: 26/100\n",
            "100/100 [========] - 0s 440us/step - loss: 1.5594e-11 - rmse: 3.9489e-06 - val_loss: 1.5594e-11 - val_rmse: 3.9489e-06\n",
            "Epoch: 27/100\n",
            "100/100 [========] - 0s 438us/step - loss: 1.5594e-11 - rmse: 3.9489e-06 - val_loss: 1.5594e-11 - val_rmse: 3.9489e-06\n",
            "Epoch: 28/100\n",
            "100/100 [========] - 0s 449us/step - loss: 1.5594e-11 - rmse: 3.9489e-06 - val_loss: 1.5594e-11 - val_rmse: 3.9489e-06\n",
            "Epoch: 29/100\n",
            "100/100 [========] - 0s 420us/step - loss: 1.5594e-11 - rmse: 3.9489e-06 - val_loss: 1.5594e-11 - val_rmse: 3.9489e-06\n",
            "Epoch: 30/100\n",
            "100/100 [========] - 0s 455us/step - loss: 1.5594e-11 - rmse: 3.9489e-06 - val_loss: 1.5594e-11 - val_rmse: 3.9489e-06\n",
            "Epoch: 31/100\n",
            "100/100 [========] - 0s 419us/step - loss: 1.5594e-11 - rmse: 3.9489e-06 - val_loss: 1.5594e-11 - val_rmse: 3.9489e-06\n",
            "Epoch: 32/100\n",
            "100/100 [========] - 0s 412us/step - loss: 1.5594e-11 - rmse: 3.9489e-06 - val_loss: 1.5594e-11 - val_rmse: 3.9489e-06\n",
            "Epoch: 33/100\n",
            "100/100 [========] - 0s 395us/step - loss: 1.5594e-11 - rmse: 3.9489e-06 - val_loss: 1.5594e-11 - val_rmse: 3.9489e-06\n",
            "Epoch: 34/100\n",
            "100/100 [========] - 0s 421us/step - loss: 1.5594e-11 - rmse: 3.9489e-06 - val_loss: 1.5594e-11 - val_rmse: 3.9489e-06\n",
            "Epoch: 35/100\n",
            "100/100 [========] - 0s 417us/step - loss: 1.5594e-11 - rmse: 3.9489e-06 - val_loss: 1.5594e-11 - val_rmse: 3.9489e-06\n",
            "Epoch: 36/100\n",
            "100/100 [========] - 0s 384us/step - loss: 1.5594e-11 - rmse: 3.9489e-06 - val_loss: 1.5594e-11 - val_rmse: 3.9489e-06\n",
            "Epoch: 37/100\n",
            "100/100 [========] - 0s 406us/step - loss: 1.5594e-11 - rmse: 3.9489e-06 - val_loss: 1.5594e-11 - val_rmse: 3.9489e-06\n",
            "Epoch: 38/100\n",
            "100/100 [========] - 0s 404us/step - loss: 1.5594e-11 - rmse: 3.9489e-06 - val_loss: 1.5594e-11 - val_rmse: 3.9489e-06\n",
            "Epoch: 39/100\n",
            "100/100 [========] - 0s 411us/step - loss: 1.5594e-11 - rmse: 3.9489e-06 - val_loss: 1.5594e-11 - val_rmse: 3.9489e-06\n",
            "Epoch: 40/100\n",
            "100/100 [========] - 0s 442us/step - loss: 1.5594e-11 - rmse: 3.9489e-06 - val_loss: 1.5594e-11 - val_rmse: 3.9489e-06\n",
            "Epoch: 41/100\n",
            "100/100 [========] - 0s 422us/step - loss: 1.5594e-11 - rmse: 3.9489e-06 - val_loss: 1.5594e-11 - val_rmse: 3.9489e-06\n",
            "Epoch: 42/100\n",
            "100/100 [========] - 0s 413us/step - loss: 1.5594e-11 - rmse: 3.9489e-06 - val_loss: 1.5594e-11 - val_rmse: 3.9489e-06\n",
            "Epoch: 43/100\n",
            "100/100 [========] - 0s 426us/step - loss: 1.5594e-11 - rmse: 3.9489e-06 - val_loss: 1.5594e-11 - val_rmse: 3.9489e-06\n",
            "Epoch: 44/100\n",
            "100/100 [========] - 0s 421us/step - loss: 1.5594e-11 - rmse: 3.9489e-06 - val_loss: 1.5594e-11 - val_rmse: 3.9489e-06\n",
            "Epoch: 45/100\n",
            "100/100 [========] - 0s 405us/step - loss: 1.5594e-11 - rmse: 3.9489e-06 - val_loss: 1.5594e-11 - val_rmse: 3.9489e-06\n",
            "Epoch: 46/100\n",
            "100/100 [========] - 0s 398us/step - loss: 1.5594e-11 - rmse: 3.9489e-06 - val_loss: 1.5594e-11 - val_rmse: 3.9489e-06\n",
            "Epoch: 47/100\n",
            "100/100 [========] - 0s 407us/step - loss: 1.5594e-11 - rmse: 3.9489e-06 - val_loss: 1.5594e-11 - val_rmse: 3.9489e-06\n",
            "Epoch: 48/100\n",
            "100/100 [========] - 0s 422us/step - loss: 1.5594e-11 - rmse: 3.9489e-06 - val_loss: 1.5594e-11 - val_rmse: 3.9489e-06\n",
            "Epoch: 49/100\n",
            "100/100 [========] - 0s 420us/step - loss: 1.5594e-11 - rmse: 3.9489e-06 - val_loss: 1.5594e-11 - val_rmse: 3.9489e-06\n",
            "Epoch: 50/100\n",
            "100/100 [========] - 0s 425us/step - loss: 1.5594e-11 - rmse: 3.9489e-06 - val_loss: 1.5594e-11 - val_rmse: 3.9489e-06\n",
            "Epoch: 51/100\n",
            "100/100 [========] - 0s 419us/step - loss: 1.5594e-11 - rmse: 3.9489e-06 - val_loss: 1.5594e-11 - val_rmse: 3.9489e-06\n",
            "Epoch: 52/100\n",
            "100/100 [========] - 0s 399us/step - loss: 1.5594e-11 - rmse: 3.9489e-06 - val_loss: 1.5594e-11 - val_rmse: 3.9489e-06\n",
            "Epoch: 53/100\n",
            "100/100 [========] - 0s 424us/step - loss: 1.5594e-11 - rmse: 3.9489e-06 - val_loss: 1.5594e-11 - val_rmse: 3.9489e-06\n",
            "Epoch: 54/100\n",
            "100/100 [========] - 0s 436us/step - loss: 1.5594e-11 - rmse: 3.9489e-06 - val_loss: 1.5594e-11 - val_rmse: 3.9489e-06\n",
            "Epoch: 55/100\n",
            "100/100 [========] - 0s 426us/step - loss: 1.5594e-11 - rmse: 3.9489e-06 - val_loss: 1.5594e-11 - val_rmse: 3.9489e-06\n",
            "Epoch: 56/100\n",
            "100/100 [========] - 0s 419us/step - loss: 1.5594e-11 - rmse: 3.9489e-06 - val_loss: 1.5594e-11 - val_rmse: 3.9489e-06\n",
            "Epoch: 57/100\n",
            "100/100 [========] - 0s 441us/step - loss: 1.5594e-11 - rmse: 3.9489e-06 - val_loss: 1.5594e-11 - val_rmse: 3.9489e-06\n",
            "Epoch: 58/100\n",
            "100/100 [========] - 0s 446us/step - loss: 1.5594e-11 - rmse: 3.9489e-06 - val_loss: 1.5594e-11 - val_rmse: 3.9489e-06\n",
            "Epoch: 59/100\n",
            "100/100 [========] - 0s 429us/step - loss: 1.5594e-11 - rmse: 3.9489e-06 - val_loss: 1.5594e-11 - val_rmse: 3.9489e-06\n",
            "Epoch: 60/100\n",
            "100/100 [========] - 0s 449us/step - loss: 1.5594e-11 - rmse: 3.9489e-06 - val_loss: 1.5594e-11 - val_rmse: 3.9489e-06\n",
            "Epoch: 61/100\n",
            "100/100 [========] - 0s 466us/step - loss: 1.5594e-11 - rmse: 3.9489e-06 - val_loss: 1.5594e-11 - val_rmse: 3.9489e-06\n",
            "Epoch: 62/100\n",
            "100/100 [========] - 0s 464us/step - loss: 1.5594e-11 - rmse: 3.9489e-06 - val_loss: 1.5594e-11 - val_rmse: 3.9489e-06\n",
            "Epoch: 63/100\n",
            "100/100 [========] - 0s 464us/step - loss: 1.5594e-11 - rmse: 3.9489e-06 - val_loss: 1.5594e-11 - val_rmse: 3.9489e-06\n",
            "Epoch: 64/100\n",
            "100/100 [========] - 0s 455us/step - loss: 1.5594e-11 - rmse: 3.9489e-06 - val_loss: 1.5594e-11 - val_rmse: 3.9489e-06\n",
            "Epoch: 65/100\n",
            "100/100 [========] - 0s 445us/step - loss: 1.5594e-11 - rmse: 3.9489e-06 - val_loss: 1.5594e-11 - val_rmse: 3.9489e-06\n",
            "Epoch: 66/100\n",
            "100/100 [========] - 0s 440us/step - loss: 1.5594e-11 - rmse: 3.9489e-06 - val_loss: 1.5594e-11 - val_rmse: 3.9489e-06\n",
            "Epoch: 67/100\n",
            "100/100 [========] - 0s 438us/step - loss: 1.5594e-11 - rmse: 3.9489e-06 - val_loss: 1.5594e-11 - val_rmse: 3.9489e-06\n",
            "Epoch: 68/100\n",
            "100/100 [========] - 0s 432us/step - loss: 1.5594e-11 - rmse: 3.9489e-06 - val_loss: 1.5594e-11 - val_rmse: 3.9489e-06\n",
            "Epoch: 69/100\n",
            "100/100 [========] - 0s 453us/step - loss: 1.5594e-11 - rmse: 3.9489e-06 - val_loss: 1.5594e-11 - val_rmse: 3.9489e-06\n",
            "Epoch: 70/100\n",
            "100/100 [========] - 0s 438us/step - loss: 1.5594e-11 - rmse: 3.9489e-06 - val_loss: 1.5594e-11 - val_rmse: 3.9489e-06\n",
            "Epoch: 71/100\n",
            "100/100 [========] - 0s 463us/step - loss: 1.5594e-11 - rmse: 3.9489e-06 - val_loss: 1.5594e-11 - val_rmse: 3.9489e-06\n",
            "Epoch: 72/100\n",
            "100/100 [========] - 0s 450us/step - loss: 1.5594e-11 - rmse: 3.9489e-06 - val_loss: 1.5594e-11 - val_rmse: 3.9489e-06\n",
            "Epoch: 73/100\n",
            "100/100 [========] - 0s 448us/step - loss: 1.5594e-11 - rmse: 3.9489e-06 - val_loss: 1.5594e-11 - val_rmse: 3.9489e-06\n",
            "Epoch: 74/100\n",
            "100/100 [========] - 0s 446us/step - loss: 1.5594e-11 - rmse: 3.9489e-06 - val_loss: 1.5594e-11 - val_rmse: 3.9489e-06\n",
            "Epoch: 75/100\n",
            "100/100 [========] - 0s 442us/step - loss: 1.5594e-11 - rmse: 3.9489e-06 - val_loss: 1.5594e-11 - val_rmse: 3.9489e-06\n",
            "Epoch: 76/100\n",
            "100/100 [========] - 0s 473us/step - loss: 1.5594e-11 - rmse: 3.9489e-06 - val_loss: 1.5594e-11 - val_rmse: 3.9489e-06\n",
            "Epoch: 77/100\n",
            "100/100 [========] - 0s 425us/step - loss: 1.5594e-11 - rmse: 3.9489e-06 - val_loss: 1.5594e-11 - val_rmse: 3.9489e-06\n",
            "Epoch: 78/100\n",
            "100/100 [========] - 0s 442us/step - loss: 1.5594e-11 - rmse: 3.9489e-06 - val_loss: 1.5594e-11 - val_rmse: 3.9489e-06\n",
            "Epoch: 79/100\n",
            "100/100 [========] - 0s 436us/step - loss: 1.5594e-11 - rmse: 3.9489e-06 - val_loss: 1.5594e-11 - val_rmse: 3.9489e-06\n",
            "Epoch: 80/100\n",
            "100/100 [========] - 0s 440us/step - loss: 1.5594e-11 - rmse: 3.9489e-06 - val_loss: 1.5594e-11 - val_rmse: 3.9489e-06\n",
            "Epoch: 81/100\n",
            "100/100 [========] - 0s 429us/step - loss: 1.5594e-11 - rmse: 3.9489e-06 - val_loss: 1.5594e-11 - val_rmse: 3.9489e-06\n",
            "Epoch: 82/100\n",
            "100/100 [========] - 0s 494us/step - loss: 1.5594e-11 - rmse: 3.9489e-06 - val_loss: 1.5594e-11 - val_rmse: 3.9489e-06\n",
            "Epoch: 83/100\n",
            "100/100 [========] - 0s 451us/step - loss: 1.5594e-11 - rmse: 3.9489e-06 - val_loss: 1.5594e-11 - val_rmse: 3.9489e-06\n",
            "Epoch: 84/100\n",
            "100/100 [========] - 0s 441us/step - loss: 1.5594e-11 - rmse: 3.9489e-06 - val_loss: 1.5594e-11 - val_rmse: 3.9489e-06\n",
            "Epoch: 85/100\n",
            "100/100 [========] - 0s 428us/step - loss: 1.5594e-11 - rmse: 3.9489e-06 - val_loss: 1.5594e-11 - val_rmse: 3.9489e-06\n",
            "Epoch: 86/100\n",
            "100/100 [========] - 0s 424us/step - loss: 1.5594e-11 - rmse: 3.9489e-06 - val_loss: 1.5594e-11 - val_rmse: 3.9489e-06\n",
            "Epoch: 87/100\n",
            "100/100 [========] - 0s 450us/step - loss: 1.5594e-11 - rmse: 3.9489e-06 - val_loss: 1.5594e-11 - val_rmse: 3.9489e-06\n",
            "Epoch: 88/100\n",
            "100/100 [========] - 0s 434us/step - loss: 1.5594e-11 - rmse: 3.9489e-06 - val_loss: 1.5594e-11 - val_rmse: 3.9489e-06\n",
            "Epoch: 89/100\n",
            "100/100 [========] - 0s 454us/step - loss: 1.5594e-11 - rmse: 3.9489e-06 - val_loss: 1.5594e-11 - val_rmse: 3.9489e-06\n",
            "Epoch: 90/100\n",
            "100/100 [========] - 0s 477us/step - loss: 1.5594e-11 - rmse: 3.9489e-06 - val_loss: 1.5594e-11 - val_rmse: 3.9489e-06\n",
            "Epoch: 91/100\n",
            "100/100 [========] - 0s 435us/step - loss: 1.5594e-11 - rmse: 3.9489e-06 - val_loss: 1.5594e-11 - val_rmse: 3.9489e-06\n",
            "Epoch: 92/100\n",
            "100/100 [========] - 0s 444us/step - loss: 1.5594e-11 - rmse: 3.9489e-06 - val_loss: 1.5594e-11 - val_rmse: 3.9489e-06\n",
            "Epoch: 93/100\n",
            "100/100 [========] - 0s 416us/step - loss: 1.5594e-11 - rmse: 3.9489e-06 - val_loss: 1.5594e-11 - val_rmse: 3.9489e-06\n",
            "Epoch: 94/100\n",
            "100/100 [========] - 0s 425us/step - loss: 1.5594e-11 - rmse: 3.9489e-06 - val_loss: 1.5594e-11 - val_rmse: 3.9489e-06\n",
            "Epoch: 95/100\n",
            "100/100 [========] - 0s 431us/step - loss: 1.5594e-11 - rmse: 3.9489e-06 - val_loss: 1.5594e-11 - val_rmse: 3.9489e-06\n",
            "Epoch: 96/100\n",
            "100/100 [========] - 0s 429us/step - loss: 1.5594e-11 - rmse: 3.9489e-06 - val_loss: 1.5594e-11 - val_rmse: 3.9489e-06\n",
            "Epoch: 97/100\n",
            "100/100 [========] - 0s 426us/step - loss: 1.5594e-11 - rmse: 3.9489e-06 - val_loss: 1.5594e-11 - val_rmse: 3.9489e-06\n",
            "Epoch: 98/100\n",
            "100/100 [========] - 0s 476us/step - loss: 1.5594e-11 - rmse: 3.9489e-06 - val_loss: 1.5594e-11 - val_rmse: 3.9489e-06\n",
            "Epoch: 99/100\n",
            "100/100 [========] - 0s 460us/step - loss: 1.5594e-11 - rmse: 3.9489e-06 - val_loss: 1.5594e-11 - val_rmse: 3.9489e-06\n",
            "Epoch: 100/100\n",
            "100/100 [========] - 0s 432us/step - loss: 1.5594e-11 - rmse: 3.9489e-06 - val_loss: 1.5594e-11 - val_rmse: 3.9489e-06\n"
          ],
          "name": "stdout"
        }
      ]
    },
    {
      "cell_type": "code",
      "metadata": {
        "colab": {
          "base_uri": "https://localhost:8080/"
        },
        "id": "QSultuM86CN_",
        "outputId": "058c0fcd-22ed-4fc5-a1ae-564471f660a0"
      },
      "source": [
        "predicted = model(torch.from_numpy(x_train).requires_grad_()).data.numpy()\n",
        "predicted"
      ],
      "execution_count": 63,
      "outputs": [
        {
          "output_type": "execute_result",
          "data": {
            "text/plain": [
              "array([[ 0.99999267],\n",
              "       [ 2.9999938 ],\n",
              "       [ 4.999995  ],\n",
              "       [ 6.9999967 ],\n",
              "       [ 8.999997  ],\n",
              "       [10.999998  ],\n",
              "       [13.        ],\n",
              "       [15.000001  ],\n",
              "       [17.000002  ],\n",
              "       [19.000004  ],\n",
              "       [21.000004  ]], dtype=float32)"
            ]
          },
          "metadata": {
            "tags": []
          },
          "execution_count": 63
        }
      ]
    },
    {
      "cell_type": "code",
      "metadata": {
        "colab": {
          "base_uri": "https://localhost:8080/"
        },
        "id": "J-ps5EfM7SFv",
        "outputId": "6d8fc741-38b0-4c1b-9f28-fb005e78bb9d"
      },
      "source": [
        "y_train"
      ],
      "execution_count": 64,
      "outputs": [
        {
          "output_type": "execute_result",
          "data": {
            "text/plain": [
              "array([[ 1.],\n",
              "       [ 3.],\n",
              "       [ 5.],\n",
              "       [ 7.],\n",
              "       [ 9.],\n",
              "       [11.],\n",
              "       [13.],\n",
              "       [15.],\n",
              "       [17.],\n",
              "       [19.],\n",
              "       [21.]], dtype=float32)"
            ]
          },
          "metadata": {
            "tags": []
          },
          "execution_count": 64
        }
      ]
    },
    {
      "cell_type": "code",
      "metadata": {
        "colab": {
          "base_uri": "https://localhost:8080/",
          "height": 265
        },
        "id": "QQ6a4TAt7VVZ",
        "outputId": "ef0e4ba3-5178-4dc3-8b0d-aaf6c2f6058a"
      },
      "source": [
        "plt.clf()\n",
        "\n",
        "predicted = model(torch.from_numpy(x_train).requires_grad_()).data.numpy()\n",
        "\n",
        "plt.plot(x_train, y_train, 'go', label='True data', alpha = 0.5)\n",
        "\n",
        "plt.plot(x_train, predicted, '--', label='Predicted data', alpha = 0.5)\n",
        "\n",
        "plt.legend(loc = 'best')\n",
        "\n",
        "plt.show()"
      ],
      "execution_count": 65,
      "outputs": [
        {
          "output_type": "display_data",
          "data": {
            "image/png": "[encoded data removed]",
            "text/plain": [
              "<Figure size 432x288 with 1 Axes>"
            ]
          },
          "metadata": {
            "tags": [],
            "needs_background": "light"
          }
        }
      ]
    },
    {
      "cell_type": "code",
      "metadata": {
        "id": "L2EZa66i7yhc"
      },
      "source": [
        "save_model = False\n",
        "if save_model is True:\n",
        "  model.load_state_dict(torch.load('awesome.pkl'))"
      ],
      "execution_count": 66,
      "outputs": []
    },
    {
      "cell_type": "markdown",
      "metadata": {
        "id": "jc2UyW5--1ga"
      },
      "source": [
        "### Linear Regression on GPU"
      ]
    },
    {
      "cell_type": "code",
      "metadata": {
        "colab": {
          "base_uri": "https://localhost:8080/"
        },
        "id": "lDp53WUk-y4Y",
        "outputId": "19385cd5-e6a7-4912-9b34-8ec9fdd2adf5"
      },
      "source": [
        "import torch\n",
        "import torch.nn as nn\n",
        "\n",
        "'''\n",
        "Step:1 Create Class Model\n",
        "'''\n",
        "class LinearRegression(nn.Module):\n",
        "\n",
        "  def __init__(self, input_dim, output_dim):\n",
        "    super(LinearRegression, self).__init__()\n",
        "    self.linear = nn.Linear(input_dim, output_dim)\n",
        "\n",
        "  def forward(self, x):\n",
        "    out = self.linear(x)\n",
        "    return out\n",
        "\n",
        "'''\n",
        "Step:2 Initalize the class\n",
        "'''\n",
        "input_dim = 1\n",
        "output_dim = 1\n",
        "\n",
        "model = LinearRegression(input_dim, output_dim)\n",
        "\n",
        "#######################\n",
        "#  USE GPU FOR MODEL  #\n",
        "#######################\n",
        "\n",
        "device = torch.device(\"cuda:0\" if torch.cuda.is_available() else \"cpu\")\n",
        "model.to(device)\n",
        "\n",
        "'''\n",
        "Step:3 Instatiate loss\n",
        "'''\n",
        "criterion = nn.MSELoss()\n",
        "\n",
        "'''\n",
        "Step:4 Instatiate Optimizer class\n",
        "'''\n",
        "learning_rate = 0.01\n",
        "optimzer = torch.optim.SGD(model.parameters(), lr = learning_rate)\n",
        "\n",
        "'''\n",
        "Step:5 Train the Model\n",
        "'''\n",
        "epochs = 100\n",
        "for epoch in range(epochs):\n",
        "\n",
        "  epoch += 1\n",
        "\n",
        "  inputs = torch.from_numpy(x_train).to(device)\n",
        "  labels = torch.from_numpy(y_train).to(device)\n",
        "\n",
        "  optimizer.zero_grad()\n",
        "\n",
        "  outputs = model(inputs)\n",
        "\n",
        "  loss = criterion(outputs, labels)\n",
        "  loss.backward()\n",
        "\n",
        "  optimzer.step()\n",
        "\n",
        "  print(f\"Epoch  : {epoch}, loss : {loss.item()}\")"
      ],
      "execution_count": 80,
      "outputs": [
        {
          "output_type": "stream",
          "text": [
            "Epoch  : 1, loss : 65.81813049316406\n",
            "Epoch  : 2, loss : 6.080535888671875\n",
            "Epoch  : 3, loss : 26.803136825561523\n",
            "Epoch  : 4, loss : 79.30482482910156\n",
            "Epoch  : 5, loss : 40.29248046875\n",
            "Epoch  : 6, loss : 1.2602595090866089\n",
            "Epoch  : 7, loss : 53.73297882080078\n",
            "Epoch  : 8, loss : 74.43798828125\n",
            "Epoch  : 9, loss : 14.657421112060547\n",
            "Epoch  : 10, loss : 14.583102226257324\n",
            "Epoch  : 11, loss : 74.25627136230469\n",
            "Epoch  : 12, loss : 53.473724365234375\n",
            "Epoch  : 13, loss : 0.8807759284973145\n",
            "Epoch  : 14, loss : 39.79227066040039\n",
            "Epoch  : 15, loss : 78.74667358398438\n",
            "Epoch  : 16, loss : 26.190624237060547\n",
            "Epoch  : 17, loss : 5.37883186340332\n",
            "Epoch  : 18, loss : 65.06869506835938\n",
            "Epoch  : 19, loss : 65.07728576660156\n",
            "Epoch  : 20, loss : 5.325362205505371\n",
            "Epoch  : 21, loss : 26.02469253540039\n",
            "Epoch  : 22, loss : 78.5689468383789\n",
            "Epoch  : 23, loss : 39.62467575073242\n",
            "Epoch  : 24, loss : 0.6238564848899841\n",
            "Epoch  : 25, loss : 53.151119232177734\n",
            "Epoch  : 26, loss : 73.97216796875\n",
            "Epoch  : 27, loss : 14.292315483093262\n",
            "Epoch  : 28, loss : 14.287351608276367\n",
            "Epoch  : 29, loss : 74.075927734375\n",
            "Epoch  : 30, loss : 53.438682556152344\n",
            "Epoch  : 31, loss : 0.9433753490447998\n",
            "Epoch  : 32, loss : 39.94208908081055\n",
            "Epoch  : 33, loss : 79.0319595336914\n",
            "Epoch  : 34, loss : 26.5960693359375\n",
            "Epoch  : 35, loss : 5.84687614440918\n",
            "Epoch  : 36, loss : 65.61461639404297\n",
            "Epoch  : 37, loss : 65.72844696044922\n",
            "Epoch  : 38, loss : 6.027714252471924\n",
            "Epoch  : 39, loss : 26.736650466918945\n",
            "Epoch  : 40, loss : 79.3230972290039\n",
            "Epoch  : 41, loss : 40.41315460205078\n",
            "Epoch  : 42, loss : 1.3773980140686035\n",
            "Epoch  : 43, loss : 53.86180114746094\n",
            "Epoch  : 44, loss : 74.67262268066406\n",
            "Epoch  : 45, loss : 14.941096305847168\n",
            "Epoch  : 46, loss : 14.83036994934082\n",
            "Epoch  : 47, loss : 74.54058837890625\n",
            "Epoch  : 48, loss : 53.84040451049805\n",
            "Epoch  : 49, loss : 1.224683403968811\n",
            "Epoch  : 50, loss : 40.08771514892578\n",
            "Epoch  : 51, loss : 79.09022521972656\n",
            "Epoch  : 52, loss : 26.5567684173584\n",
            "Epoch  : 53, loss : 5.662394046783447\n",
            "Epoch  : 54, loss : 65.31483459472656\n",
            "Epoch  : 55, loss : 65.359619140625\n",
            "Epoch  : 56, loss : 5.558589458465576\n",
            "Epoch  : 57, loss : 26.15188980102539\n",
            "Epoch  : 58, loss : 78.68423461914062\n",
            "Epoch  : 59, loss : 39.743499755859375\n",
            "Epoch  : 60, loss : 0.640339195728302\n",
            "Epoch  : 61, loss : 53.08271408081055\n",
            "Epoch  : 62, loss : 73.91741943359375\n",
            "Epoch  : 63, loss : 14.200963973999023\n",
            "Epoch  : 64, loss : 14.082270622253418\n",
            "Epoch  : 65, loss : 73.84071350097656\n",
            "Epoch  : 66, loss : 53.23031997680664\n",
            "Epoch  : 67, loss : 0.6695551872253418\n",
            "Epoch  : 68, loss : 39.59086990356445\n",
            "Epoch  : 69, loss : 78.71441650390625\n",
            "Epoch  : 70, loss : 26.30157470703125\n",
            "Epoch  : 71, loss : 5.4849162101745605\n",
            "Epoch  : 72, loss : 65.24476623535156\n",
            "Epoch  : 73, loss : 65.43820190429688\n",
            "Epoch  : 74, loss : 5.744562149047852\n",
            "Epoch  : 75, loss : 26.41513442993164\n",
            "Epoch  : 76, loss : 79.06739807128906\n",
            "Epoch  : 77, loss : 40.24708557128906\n",
            "Epoch  : 78, loss : 1.2014254331588745\n",
            "Epoch  : 79, loss : 53.69757843017578\n",
            "Epoch  : 80, loss : 74.6209487915039\n",
            "Epoch  : 81, loss : 14.951683044433594\n",
            "Epoch  : 82, loss : 14.823701858520508\n",
            "Epoch  : 83, loss : 74.59577941894531\n",
            "Epoch  : 84, loss : 54.00812530517578\n",
            "Epoch  : 85, loss : 1.4041521549224854\n",
            "Epoch  : 86, loss : 40.25672149658203\n",
            "Epoch  : 87, loss : 79.34833526611328\n",
            "Epoch  : 88, loss : 26.880521774291992\n",
            "Epoch  : 89, loss : 5.947338581085205\n",
            "Epoch  : 90, loss : 65.6060562133789\n",
            "Epoch  : 91, loss : 65.72991943359375\n",
            "Epoch  : 92, loss : 5.920708656311035\n",
            "Epoch  : 93, loss : 26.44583511352539\n",
            "Epoch  : 94, loss : 79.00042724609375\n",
            "Epoch  : 95, loss : 40.093074798583984\n",
            "Epoch  : 96, loss : 0.9121671319007874\n",
            "Epoch  : 97, loss : 53.28836441040039\n",
            "Epoch  : 98, loss : 74.14947509765625\n",
            "Epoch  : 99, loss : 14.402846336364746\n",
            "Epoch  : 100, loss : 14.170138359069824\n"
          ],
          "name": "stdout"
        }
      ]
    }
  ]
}