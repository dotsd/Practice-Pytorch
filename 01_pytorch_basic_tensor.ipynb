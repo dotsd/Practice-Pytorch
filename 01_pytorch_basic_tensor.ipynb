{
  "nbformat": 4,
  "nbformat_minor": 0,
  "metadata": {
    "colab": {
      "name": "01_pytorch_basic_tensor.ipynb",
      "provenance": []
    },
    "kernelspec": {
      "name": "python3",
      "display_name": "Python 3"
    },
    "language_info": {
      "name": "python"
    },
    "accelerator": "GPU"
  },
  "cells": [
    {
      "cell_type": "code",
      "metadata": {
        "id": "HSvCNUczCc53"
      },
      "source": [
        "import torch\n",
        "import numpy as np"
      ],
      "execution_count": null,
      "outputs": []
    },
    {
      "cell_type": "code",
      "metadata": {
        "colab": {
          "base_uri": "https://localhost:8080/"
        },
        "id": "5pedQdr2CrWB",
        "outputId": "0afca707-a2ee-400f-a8f9-266a00066d7c"
      },
      "source": [
        "torch.cuda.is_available()"
      ],
      "execution_count": null,
      "outputs": [
        {
          "output_type": "execute_result",
          "data": {
            "text/plain": [
              "True"
            ]
          },
          "metadata": {
            "tags": []
          },
          "execution_count": 3
        }
      ]
    },
    {
      "cell_type": "code",
      "metadata": {
        "colab": {
          "base_uri": "https://localhost:8080/"
        },
        "id": "lOchaBgiC0hP",
        "outputId": "0aa3daf8-e110-43f6-f8e4-1ca4f3047f59"
      },
      "source": [
        "!nvidia-smi"
      ],
      "execution_count": null,
      "outputs": [
        {
          "output_type": "stream",
          "text": [
            "Sat Apr 10 13:49:55 2021       \n",
            "+-----------------------------------------------------------------------------+\n",
            "| NVIDIA-SMI 460.67       Driver Version: 460.32.03    CUDA Version: 11.2     |\n",
            "|-------------------------------+----------------------+----------------------+\n",
            "| GPU  Name        Persistence-M| Bus-Id        Disp.A | Volatile Uncorr. ECC |\n",
            "| Fan  Temp  Perf  Pwr:Usage/Cap|         Memory-Usage | GPU-Util  Compute M. |\n",
            "|                               |                      |               MIG M. |\n",
            "|===============================+======================+======================|\n",
            "|   0  Tesla T4            Off  | 00000000:00:04.0 Off |                    0 |\n",
            "| N/A   34C    P8     9W /  70W |      3MiB / 15109MiB |      0%      Default |\n",
            "|                               |                      |                  N/A |\n",
            "+-------------------------------+----------------------+----------------------+\n",
            "                                                                               \n",
            "+-----------------------------------------------------------------------------+\n",
            "| Processes:                                                                  |\n",
            "|  GPU   GI   CI        PID   Type   Process name                  GPU Memory |\n",
            "|        ID   ID                                                   Usage      |\n",
            "|=============================================================================|\n",
            "|  No running processes found                                                 |\n",
            "+-----------------------------------------------------------------------------+\n"
          ],
          "name": "stdout"
        }
      ]
    },
    {
      "cell_type": "code",
      "metadata": {
        "id": "Qj7RmD7_DNMA"
      },
      "source": [
        "My_data = [[1,2],[3,4]]"
      ],
      "execution_count": null,
      "outputs": []
    },
    {
      "cell_type": "code",
      "metadata": {
        "colab": {
          "base_uri": "https://localhost:8080/"
        },
        "id": "U_xD-bHYDtwS",
        "outputId": "06d9688e-6578-4ed7-9e96-f24088e37907"
      },
      "source": [
        "type(My_data)"
      ],
      "execution_count": null,
      "outputs": [
        {
          "output_type": "execute_result",
          "data": {
            "text/plain": [
              "list"
            ]
          },
          "metadata": {
            "tags": []
          },
          "execution_count": 7
        }
      ]
    },
    {
      "cell_type": "code",
      "metadata": {
        "id": "oB9fDsPxD8om"
      },
      "source": [
        "np.array(My_data)"
      ],
      "execution_count": null,
      "outputs": []
    },
    {
      "cell_type": "code",
      "metadata": {
        "colab": {
          "base_uri": "https://localhost:8080/"
        },
        "id": "T_a934g8D10a",
        "outputId": "0210e47c-b3fb-45f6-8173-f50c4579e400"
      },
      "source": [
        "np.asarray(My_data)"
      ],
      "execution_count": null,
      "outputs": [
        {
          "output_type": "execute_result",
          "data": {
            "text/plain": [
              "array([[1, 2],\n",
              "       [3, 4]])"
            ]
          },
          "metadata": {
            "tags": []
          },
          "execution_count": 9
        }
      ]
    },
    {
      "cell_type": "code",
      "metadata": {
        "id": "AAsmr3A4D1lH"
      },
      "source": [
        "My_data = torch.tensor(My_data)"
      ],
      "execution_count": null,
      "outputs": []
    },
    {
      "cell_type": "code",
      "metadata": {
        "colab": {
          "base_uri": "https://localhost:8080/"
        },
        "id": "3G3573LNEbnv",
        "outputId": "d2f5c9ce-c114-4aa8-84ea-86c4d961a8fc"
      },
      "source": [
        "type(My_data)"
      ],
      "execution_count": null,
      "outputs": [
        {
          "output_type": "execute_result",
          "data": {
            "text/plain": [
              "torch.Tensor"
            ]
          },
          "metadata": {
            "tags": []
          },
          "execution_count": 12
        }
      ]
    },
    {
      "cell_type": "code",
      "metadata": {
        "colab": {
          "base_uri": "https://localhost:8080/"
        },
        "id": "W1SdQMyaEi3C",
        "outputId": "b78a2a7a-f426-4e08-ae4b-d1ceb6158f6f"
      },
      "source": [
        "My_data.dtype"
      ],
      "execution_count": null,
      "outputs": [
        {
          "output_type": "execute_result",
          "data": {
            "text/plain": [
              "torch.int64"
            ]
          },
          "metadata": {
            "tags": []
          },
          "execution_count": 14
        }
      ]
    },
    {
      "cell_type": "code",
      "metadata": {
        "id": "xwgzj3cOE9BA"
      },
      "source": [
        "my_nparry = np.random.rand(4,4)"
      ],
      "execution_count": null,
      "outputs": []
    },
    {
      "cell_type": "code",
      "metadata": {
        "colab": {
          "base_uri": "https://localhost:8080/"
        },
        "id": "kEjuTI_HFSTx",
        "outputId": "e56cf74f-2510-48e7-e321-f71e51d98810"
      },
      "source": [
        "my_nparry"
      ],
      "execution_count": null,
      "outputs": [
        {
          "output_type": "execute_result",
          "data": {
            "text/plain": [
              "array([[0.75700886, 0.79177097, 0.50163349, 0.77683496],\n",
              "       [0.16940862, 0.39282821, 0.05122972, 0.3658047 ],\n",
              "       [0.57981707, 0.3512923 , 0.31286968, 0.35663935],\n",
              "       [0.04177011, 0.26773854, 0.43275002, 0.26295139]])"
            ]
          },
          "metadata": {
            "tags": []
          },
          "execution_count": 22
        }
      ]
    },
    {
      "cell_type": "code",
      "metadata": {
        "colab": {
          "base_uri": "https://localhost:8080/"
        },
        "id": "o_yFO_AzFWLy",
        "outputId": "98fc6481-8be7-41af-940d-6effcb741cad"
      },
      "source": [
        "torch.tensor(my_nparry)"
      ],
      "execution_count": null,
      "outputs": [
        {
          "output_type": "execute_result",
          "data": {
            "text/plain": [
              "tensor([[0.7570, 0.7918, 0.5016, 0.7768],\n",
              "        [0.1694, 0.3928, 0.0512, 0.3658],\n",
              "        [0.5798, 0.3513, 0.3129, 0.3566],\n",
              "        [0.0418, 0.2677, 0.4328, 0.2630]], dtype=torch.float64)"
            ]
          },
          "metadata": {
            "tags": []
          },
          "execution_count": 23
        }
      ]
    },
    {
      "cell_type": "code",
      "metadata": {
        "colab": {
          "base_uri": "https://localhost:8080/"
        },
        "id": "fPznywkvGP5z",
        "outputId": "55e8614b-5ad2-47dc-c0d6-14128abbee43"
      },
      "source": [
        "torch.from_numpy(my_nparry)"
      ],
      "execution_count": null,
      "outputs": [
        {
          "output_type": "execute_result",
          "data": {
            "text/plain": [
              "tensor([[0.7570, 0.7918, 0.5016, 0.7768],\n",
              "        [0.1694, 0.3928, 0.0512, 0.3658],\n",
              "        [0.5798, 0.3513, 0.3129, 0.3566],\n",
              "        [0.0418, 0.2677, 0.4328, 0.2630]], dtype=torch.float64)"
            ]
          },
          "metadata": {
            "tags": []
          },
          "execution_count": 24
        }
      ]
    },
    {
      "cell_type": "code",
      "metadata": {
        "colab": {
          "base_uri": "https://localhost:8080/"
        },
        "id": "kPynHtzuGj-F",
        "outputId": "6809f373-21e3-43a5-f6a4-1e7a86c6a288"
      },
      "source": [
        "torch.ones(3,4)"
      ],
      "execution_count": null,
      "outputs": [
        {
          "output_type": "execute_result",
          "data": {
            "text/plain": [
              "tensor([[1., 1., 1., 1.],\n",
              "        [1., 1., 1., 1.],\n",
              "        [1., 1., 1., 1.]])"
            ]
          },
          "metadata": {
            "tags": []
          },
          "execution_count": 29
        }
      ]
    },
    {
      "cell_type": "code",
      "metadata": {
        "id": "KplsWF3TGjtX"
      },
      "source": [
        "my_tensor = torch.rand(4,5)"
      ],
      "execution_count": null,
      "outputs": []
    },
    {
      "cell_type": "code",
      "metadata": {
        "colab": {
          "base_uri": "https://localhost:8080/"
        },
        "id": "DZS7GfnJGjk4",
        "outputId": "2a1fe6e5-c998-4e4b-ffbb-1b862e790165"
      },
      "source": [
        "my_tensor.dtype"
      ],
      "execution_count": null,
      "outputs": [
        {
          "output_type": "execute_result",
          "data": {
            "text/plain": [
              "torch.float32"
            ]
          },
          "metadata": {
            "tags": []
          },
          "execution_count": 4
        }
      ]
    },
    {
      "cell_type": "code",
      "metadata": {
        "colab": {
          "base_uri": "https://localhost:8080/"
        },
        "id": "OTbmCvAPGjc4",
        "outputId": "2435094b-dba7-4315-df83-b2603b0e9d4d"
      },
      "source": [
        "my_tensor.device"
      ],
      "execution_count": null,
      "outputs": [
        {
          "output_type": "execute_result",
          "data": {
            "text/plain": [
              "device(type='cpu')"
            ]
          },
          "metadata": {
            "tags": []
          },
          "execution_count": 5
        }
      ]
    },
    {
      "cell_type": "code",
      "metadata": {
        "id": "Y4H_MwjiGjU8"
      },
      "source": [
        "my_tensor = my_tensor.to(\"cuda\")"
      ],
      "execution_count": null,
      "outputs": []
    },
    {
      "cell_type": "code",
      "metadata": {
        "colab": {
          "base_uri": "https://localhost:8080/"
        },
        "id": "M-HiGEPMXwOU",
        "outputId": "0310a517-1972-4767-d20b-e25ea5537f2a"
      },
      "source": [
        "my_tensor.device"
      ],
      "execution_count": null,
      "outputs": [
        {
          "output_type": "execute_result",
          "data": {
            "text/plain": [
              "device(type='cuda', index=0)"
            ]
          },
          "metadata": {
            "tags": []
          },
          "execution_count": 10
        }
      ]
    },
    {
      "cell_type": "code",
      "metadata": {
        "colab": {
          "base_uri": "https://localhost:8080/"
        },
        "id": "-r7IQZeRGjSu",
        "outputId": "2e950eb9-1daa-4482-9ff0-7d6cba708de1"
      },
      "source": [
        "my_tensor"
      ],
      "execution_count": null,
      "outputs": [
        {
          "output_type": "execute_result",
          "data": {
            "text/plain": [
              "tensor([[0.0406, 0.6452, 0.9696, 0.2992, 0.6099],\n",
              "        [0.5450, 0.4180, 0.3526, 0.4744, 0.3466],\n",
              "        [0.4452, 0.9269, 0.9607, 0.1622, 0.1501],\n",
              "        [0.1203, 0.7336, 0.0243, 0.3804, 0.5341]], device='cuda:0')"
            ]
          },
          "metadata": {
            "tags": []
          },
          "execution_count": 12
        }
      ]
    },
    {
      "cell_type": "code",
      "metadata": {
        "colab": {
          "base_uri": "https://localhost:8080/"
        },
        "id": "BoUJHdFnGPw9",
        "outputId": "56f6a246-a139-4ea0-ab8a-6b75cadf760e"
      },
      "source": [
        "my_tensor[:3,1:4]"
      ],
      "execution_count": null,
      "outputs": [
        {
          "output_type": "execute_result",
          "data": {
            "text/plain": [
              "tensor([[0.6452, 0.9696, 0.2992],\n",
              "        [0.4180, 0.3526, 0.4744],\n",
              "        [0.9269, 0.9607, 0.1622]], device='cuda:0')"
            ]
          },
          "metadata": {
            "tags": []
          },
          "execution_count": 18
        }
      ]
    },
    {
      "cell_type": "code",
      "metadata": {
        "colab": {
          "base_uri": "https://localhost:8080/"
        },
        "id": "mBT5qoMrY3S5",
        "outputId": "a89c0d8c-fde3-489f-917d-2f504265eb9c"
      },
      "source": [
        "my_tensor_one = torch.rand(2,2)\n",
        "my_tensor_two = torch.rand(2,2)\n",
        "\n",
        "print(my_tensor_one)\n",
        "my_tensor_two"
      ],
      "execution_count": null,
      "outputs": [
        {
          "output_type": "stream",
          "text": [
            "tensor([[0.3534, 0.3293],\n",
            "        [0.2723, 0.6825]])\n"
          ],
          "name": "stdout"
        },
        {
          "output_type": "execute_result",
          "data": {
            "text/plain": [
              "tensor([[0.6590, 0.4417],\n",
              "        [0.0534, 0.3420]])"
            ]
          },
          "metadata": {
            "tags": []
          },
          "execution_count": 30
        }
      ]
    },
    {
      "cell_type": "code",
      "metadata": {
        "colab": {
          "base_uri": "https://localhost:8080/"
        },
        "id": "GonHndrZZKyy",
        "outputId": "8609e85d-3575-4ede-b156-e6f0004313e7"
      },
      "source": [
        "my_tensor_one.mul(my_tensor_two)"
      ],
      "execution_count": null,
      "outputs": [
        {
          "output_type": "execute_result",
          "data": {
            "text/plain": [
              "tensor([[0.2329, 0.1455],\n",
              "        [0.0145, 0.2334]])"
            ]
          },
          "metadata": {
            "tags": []
          },
          "execution_count": 31
        }
      ]
    },
    {
      "cell_type": "code",
      "metadata": {
        "colab": {
          "base_uri": "https://localhost:8080/"
        },
        "id": "wGTrZC4AZ8IQ",
        "outputId": "acec05bc-a681-452c-e617-20c8906a30b0"
      },
      "source": [
        "my_tensor_one * my_tensor_two"
      ],
      "execution_count": null,
      "outputs": [
        {
          "output_type": "execute_result",
          "data": {
            "text/plain": [
              "tensor([[0.2329, 0.1455],\n",
              "        [0.0145, 0.2334]])"
            ]
          },
          "metadata": {
            "tags": []
          },
          "execution_count": 33
        }
      ]
    },
    {
      "cell_type": "code",
      "metadata": {
        "colab": {
          "base_uri": "https://localhost:8080/"
        },
        "id": "Ja1GV9jRaJGi",
        "outputId": "f4b009ff-bb57-4d27-d99f-b9fc3eb480ff"
      },
      "source": [
        "my_tensor_one.matmul(my_tensor_two.T)"
      ],
      "execution_count": null,
      "outputs": [
        {
          "output_type": "execute_result",
          "data": {
            "text/plain": [
              "tensor([[0.3783, 0.1315],\n",
              "        [0.4809, 0.2479]])"
            ]
          },
          "metadata": {
            "tags": []
          },
          "execution_count": 35
        }
      ]
    },
    {
      "cell_type": "code",
      "metadata": {
        "colab": {
          "base_uri": "https://localhost:8080/"
        },
        "id": "CBa4gJ1Iafwo",
        "outputId": "388e3fd8-f0ce-4288-de4e-66476c15f1a9"
      },
      "source": [
        "torch.matmul(my_tensor_one, my_tensor_two)"
      ],
      "execution_count": null,
      "outputs": [
        {
          "output_type": "execute_result",
          "data": {
            "text/plain": [
              "tensor([[0.2505, 0.2687],\n",
              "        [0.2159, 0.3537]])"
            ]
          },
          "metadata": {
            "tags": []
          },
          "execution_count": 37
        }
      ]
    },
    {
      "cell_type": "code",
      "metadata": {
        "id": "-RhqutUPafj7",
        "colab": {
          "base_uri": "https://localhost:8080/"
        },
        "outputId": "0e0e350b-766c-4aa3-d408-9d322be8bfc1"
      },
      "source": [
        "my_tensor_one.sum()"
      ],
      "execution_count": null,
      "outputs": [
        {
          "output_type": "execute_result",
          "data": {
            "text/plain": [
              "tensor(1.6375)"
            ]
          },
          "metadata": {
            "tags": []
          },
          "execution_count": 38
        }
      ]
    },
    {
      "cell_type": "code",
      "metadata": {
        "colab": {
          "base_uri": "https://localhost:8080/"
        },
        "id": "cbhclVSlbFXA",
        "outputId": "9eb8a882-c77b-43fb-c175-53de53f84f5e"
      },
      "source": [
        "my_tensor_one.sum(axis=1)"
      ],
      "execution_count": null,
      "outputs": [
        {
          "output_type": "execute_result",
          "data": {
            "text/plain": [
              "tensor([0.6827, 0.9548])"
            ]
          },
          "metadata": {
            "tags": []
          },
          "execution_count": 39
        }
      ]
    },
    {
      "cell_type": "code",
      "metadata": {
        "id": "a-V6jUUfae75",
        "colab": {
          "base_uri": "https://localhost:8080/"
        },
        "outputId": "6581a932-e5d0-4316-b3ae-94baaa507ac7"
      },
      "source": [
        "torch.max(my_tensor)"
      ],
      "execution_count": null,
      "outputs": [
        {
          "output_type": "execute_result",
          "data": {
            "text/plain": [
              "tensor(0.9696, device='cuda:0')"
            ]
          },
          "metadata": {
            "tags": []
          },
          "execution_count": 40
        }
      ]
    },
    {
      "cell_type": "code",
      "metadata": {
        "colab": {
          "base_uri": "https://localhost:8080/"
        },
        "id": "0f710XQzbXU9",
        "outputId": "f0e10d38-f700-4b67-fe26-cfd5a182c136"
      },
      "source": [
        "torch.min(my_tensor)"
      ],
      "execution_count": null,
      "outputs": [
        {
          "output_type": "execute_result",
          "data": {
            "text/plain": [
              "tensor(0.0243, device='cuda:0')"
            ]
          },
          "metadata": {
            "tags": []
          },
          "execution_count": 41
        }
      ]
    },
    {
      "cell_type": "code",
      "metadata": {
        "colab": {
          "base_uri": "https://localhost:8080/"
        },
        "id": "bxJyywp-bksC",
        "outputId": "cdb20f3e-9e02-454e-a284-dbe5e041b3e4"
      },
      "source": [
        "my_tensor.max()"
      ],
      "execution_count": null,
      "outputs": [
        {
          "output_type": "execute_result",
          "data": {
            "text/plain": [
              "tensor(0.9696, device='cuda:0')"
            ]
          },
          "metadata": {
            "tags": []
          },
          "execution_count": 42
        }
      ]
    },
    {
      "cell_type": "code",
      "metadata": {
        "colab": {
          "base_uri": "https://localhost:8080/"
        },
        "id": "VNiLmNDEbkhf",
        "outputId": "851bde37-88e1-4b2e-97a3-9cb28f5b530b"
      },
      "source": [
        "torch.cat([my_tensor_one,my_tensor_two])"
      ],
      "execution_count": null,
      "outputs": [
        {
          "output_type": "execute_result",
          "data": {
            "text/plain": [
              "tensor([[0.3534, 0.3293],\n",
              "        [0.2723, 0.6825],\n",
              "        [0.6590, 0.4417],\n",
              "        [0.0534, 0.3420]])"
            ]
          },
          "metadata": {
            "tags": []
          },
          "execution_count": 44
        }
      ]
    },
    {
      "cell_type": "code",
      "metadata": {
        "colab": {
          "base_uri": "https://localhost:8080/"
        },
        "id": "cgVz2t5Wb7oV",
        "outputId": "f471585f-7c24-496a-a8ed-293be1fe484d"
      },
      "source": [
        "torch.cat([my_tensor_one,my_tensor_two], axis =1) # concatination on the coloumn"
      ],
      "execution_count": null,
      "outputs": [
        {
          "output_type": "execute_result",
          "data": {
            "text/plain": [
              "tensor([[0.3534, 0.3293, 0.6590, 0.4417],\n",
              "        [0.2723, 0.6825, 0.0534, 0.3420]])"
            ]
          },
          "metadata": {
            "tags": []
          },
          "execution_count": 47
        }
      ]
    },
    {
      "cell_type": "code",
      "metadata": {
        "colab": {
          "base_uri": "https://localhost:8080/"
        },
        "id": "UsMYKjOicRiV",
        "outputId": "e5b4e688-e211-4980-88a6-8758ad45d88c"
      },
      "source": [
        "torch.cat([my_tensor_one,my_tensor_two], dim =1) # concatination on the coloumn"
      ],
      "execution_count": null,
      "outputs": [
        {
          "output_type": "execute_result",
          "data": {
            "text/plain": [
              "tensor([[0.3534, 0.3293, 0.6590, 0.4417],\n",
              "        [0.2723, 0.6825, 0.0534, 0.3420]])"
            ]
          },
          "metadata": {
            "tags": []
          },
          "execution_count": 48
        }
      ]
    },
    {
      "cell_type": "code",
      "metadata": {
        "colab": {
          "base_uri": "https://localhost:8080/"
        },
        "id": "MN1Dp6d2cZ4r",
        "outputId": "86ed17ec-e797-4a48-f8f5-0bf627669158"
      },
      "source": [
        "torch.nn.functional.softmax(my_tensor_one, dim=0)"
      ],
      "execution_count": null,
      "outputs": [
        {
          "output_type": "execute_result",
          "data": {
            "text/plain": [
              "tensor([[0.5203, 0.4126],\n",
              "        [0.4797, 0.5874]])"
            ]
          },
          "metadata": {
            "tags": []
          },
          "execution_count": 52
        }
      ]
    },
    {
      "cell_type": "code",
      "metadata": {
        "colab": {
          "base_uri": "https://localhost:8080/"
        },
        "id": "fuV319CtcZ2R",
        "outputId": "c80b7df7-7ab0-414a-e915-fda9d62331e3"
      },
      "source": [
        "my_tensor.shape"
      ],
      "execution_count": null,
      "outputs": [
        {
          "output_type": "execute_result",
          "data": {
            "text/plain": [
              "torch.Size([4, 5])"
            ]
          },
          "metadata": {
            "tags": []
          },
          "execution_count": 54
        }
      ]
    },
    {
      "cell_type": "code",
      "metadata": {
        "colab": {
          "base_uri": "https://localhost:8080/"
        },
        "id": "_FsUkCsDcZzQ",
        "outputId": "fc9940dd-6a49-4cff-b3dc-4dd6f430dccf"
      },
      "source": [
        "my_tensor_one.size()"
      ],
      "execution_count": null,
      "outputs": [
        {
          "output_type": "execute_result",
          "data": {
            "text/plain": [
              "torch.Size([2, 2])"
            ]
          },
          "metadata": {
            "tags": []
          },
          "execution_count": 58
        }
      ]
    },
    {
      "cell_type": "code",
      "metadata": {
        "colab": {
          "base_uri": "https://localhost:8080/"
        },
        "id": "uiyyMgjDcZwe",
        "outputId": "04420244-3843-4a92-919c-17bb2fc342dc"
      },
      "source": [
        "torch.rand(10,3,128,128)"
      ],
      "execution_count": null,
      "outputs": [
        {
          "output_type": "execute_result",
          "data": {
            "text/plain": [
              "tensor([[[[0.7844, 0.0196, 0.8627,  ..., 0.2503, 0.3359, 0.0306],\n",
              "          [0.1145, 0.7135, 0.4191,  ..., 0.7274, 0.5186, 0.2781],\n",
              "          [0.8114, 0.2155, 0.8351,  ..., 0.2957, 0.5641, 0.6457],\n",
              "          ...,\n",
              "          [0.8682, 0.0785, 0.2252,  ..., 0.7657, 0.8486, 0.5850],\n",
              "          [0.3539, 0.7460, 0.8083,  ..., 0.8618, 0.9947, 0.4583],\n",
              "          [0.7532, 0.8457, 0.0131,  ..., 0.0376, 0.8339, 0.6343]],\n",
              "\n",
              "         [[0.9473, 0.7986, 0.9125,  ..., 0.2829, 0.1858, 0.7257],\n",
              "          [0.8284, 0.1456, 0.6366,  ..., 0.6426, 0.2113, 0.9159],\n",
              "          [0.4237, 0.4396, 0.4355,  ..., 0.5070, 0.2554, 0.2469],\n",
              "          ...,\n",
              "          [0.3683, 0.6426, 0.3881,  ..., 0.5719, 0.4459, 0.9857],\n",
              "          [0.8708, 0.0096, 0.9122,  ..., 0.9743, 0.7528, 0.0714],\n",
              "          [0.8990, 0.3193, 0.7175,  ..., 0.1561, 0.2568, 0.3105]],\n",
              "\n",
              "         [[0.2629, 0.3660, 0.7604,  ..., 0.7065, 0.8888, 0.4314],\n",
              "          [0.0925, 0.2294, 0.6705,  ..., 0.4163, 0.9627, 0.9819],\n",
              "          [0.3957, 0.3066, 0.7344,  ..., 0.3901, 0.6845, 0.9384],\n",
              "          ...,\n",
              "          [0.8823, 0.9362, 0.2138,  ..., 0.8874, 0.3005, 0.3933],\n",
              "          [0.0383, 0.7157, 0.8693,  ..., 0.3723, 0.1241, 0.0230],\n",
              "          [0.6376, 0.5930, 0.1855,  ..., 0.6078, 0.0489, 0.1970]]],\n",
              "\n",
              "\n",
              "        [[[0.7076, 0.8086, 0.8898,  ..., 0.8857, 0.9463, 0.0715],\n",
              "          [0.0282, 0.8901, 0.7034,  ..., 0.0847, 0.3605, 0.8535],\n",
              "          [0.3964, 0.6949, 0.5728,  ..., 0.7207, 0.8405, 0.8350],\n",
              "          ...,\n",
              "          [0.6588, 0.3206, 0.1080,  ..., 0.0172, 0.5456, 0.8264],\n",
              "          [0.7438, 0.0714, 0.6578,  ..., 0.4985, 0.8329, 0.5756],\n",
              "          [0.6184, 0.5300, 0.3959,  ..., 0.6438, 0.9567, 0.6164]],\n",
              "\n",
              "         [[0.1464, 0.2006, 0.2612,  ..., 0.6698, 0.6930, 0.8230],\n",
              "          [0.0710, 0.5044, 0.9107,  ..., 0.8886, 0.0239, 0.8798],\n",
              "          [0.8586, 0.7943, 0.2659,  ..., 0.4408, 0.7466, 0.8516],\n",
              "          ...,\n",
              "          [0.1660, 0.9310, 0.5294,  ..., 0.0540, 0.6295, 0.9967],\n",
              "          [0.5569, 0.4699, 0.7320,  ..., 0.5795, 0.1730, 0.3496],\n",
              "          [0.4892, 0.0983, 0.2122,  ..., 0.8180, 0.0145, 0.6622]],\n",
              "\n",
              "         [[0.1298, 0.2379, 0.7584,  ..., 0.5192, 0.6258, 0.9677],\n",
              "          [0.4312, 0.8774, 0.9942,  ..., 0.5292, 0.7055, 0.3429],\n",
              "          [0.8601, 0.0696, 0.0687,  ..., 0.8125, 0.2088, 0.2372],\n",
              "          ...,\n",
              "          [0.6353, 0.5080, 0.4657,  ..., 0.2739, 0.6992, 0.2458],\n",
              "          [0.1012, 0.8315, 0.4185,  ..., 0.1789, 0.6201, 0.7150],\n",
              "          [0.3090, 0.5817, 0.8208,  ..., 0.9935, 0.9529, 0.4310]]],\n",
              "\n",
              "\n",
              "        [[[0.6897, 0.1431, 0.4119,  ..., 0.3742, 0.1575, 0.2805],\n",
              "          [0.9827, 0.3439, 0.3842,  ..., 0.6601, 0.2270, 0.2018],\n",
              "          [0.4477, 0.3260, 0.4477,  ..., 0.5663, 0.3962, 0.0705],\n",
              "          ...,\n",
              "          [0.1997, 0.1449, 0.1935,  ..., 0.0167, 0.3361, 0.6837],\n",
              "          [0.8875, 0.0220, 0.6604,  ..., 0.9813, 0.7602, 0.5624],\n",
              "          [0.9774, 0.9066, 0.4151,  ..., 0.4699, 0.1787, 0.2457]],\n",
              "\n",
              "         [[0.2502, 0.7389, 0.3304,  ..., 0.0012, 0.3097, 0.6673],\n",
              "          [0.1542, 0.8244, 0.6663,  ..., 0.3081, 0.0688, 0.1400],\n",
              "          [0.2422, 0.1634, 0.8927,  ..., 0.0257, 0.0148, 0.6678],\n",
              "          ...,\n",
              "          [0.6223, 0.5465, 0.2492,  ..., 0.9642, 0.5502, 0.4124],\n",
              "          [0.1209, 0.8348, 0.9732,  ..., 0.1432, 0.7035, 0.1460],\n",
              "          [0.7020, 0.1655, 0.0192,  ..., 0.5870, 0.3771, 0.1281]],\n",
              "\n",
              "         [[0.8889, 0.9585, 0.9208,  ..., 0.7863, 0.5442, 0.2309],\n",
              "          [0.0039, 0.9617, 0.4871,  ..., 0.3717, 0.1198, 0.4609],\n",
              "          [0.0435, 0.5085, 0.2653,  ..., 0.8192, 0.8713, 0.7401],\n",
              "          ...,\n",
              "          [0.3063, 0.1862, 0.2834,  ..., 0.0824, 0.7258, 0.9608],\n",
              "          [0.7541, 0.7883, 0.9820,  ..., 0.7334, 0.6638, 0.5922],\n",
              "          [0.7728, 0.4645, 0.5190,  ..., 0.8952, 0.3525, 0.2526]]],\n",
              "\n",
              "\n",
              "        ...,\n",
              "\n",
              "\n",
              "        [[[0.1705, 0.3871, 0.9710,  ..., 0.1531, 0.7736, 0.6935],\n",
              "          [0.1957, 0.9324, 0.7820,  ..., 0.3062, 0.3320, 0.1109],\n",
              "          [0.2375, 0.6759, 0.0412,  ..., 0.8859, 0.7731, 0.3580],\n",
              "          ...,\n",
              "          [0.3342, 0.6877, 0.2542,  ..., 0.0992, 0.1640, 0.3461],\n",
              "          [0.2924, 0.5324, 0.9049,  ..., 0.1432, 0.1725, 0.7141],\n",
              "          [0.1313, 0.6178, 0.7446,  ..., 0.1259, 0.4274, 0.4754]],\n",
              "\n",
              "         [[0.8010, 0.9597, 0.0231,  ..., 0.0246, 0.3537, 0.1783],\n",
              "          [0.2520, 0.1972, 0.5534,  ..., 0.0587, 0.7499, 0.3001],\n",
              "          [0.0341, 0.9665, 0.0064,  ..., 0.0077, 0.7506, 0.4654],\n",
              "          ...,\n",
              "          [0.3635, 0.0112, 0.7482,  ..., 0.1988, 0.6025, 0.3834],\n",
              "          [0.2312, 0.2439, 0.3899,  ..., 0.7150, 0.9211, 0.9940],\n",
              "          [0.5200, 0.6912, 0.2186,  ..., 0.9974, 0.4002, 0.3931]],\n",
              "\n",
              "         [[0.9884, 0.6607, 0.6676,  ..., 0.1441, 0.0379, 0.6452],\n",
              "          [0.3865, 0.9761, 0.8519,  ..., 0.6423, 0.2854, 0.3647],\n",
              "          [0.5449, 0.1899, 0.3683,  ..., 0.4510, 0.7101, 0.2527],\n",
              "          ...,\n",
              "          [0.1666, 0.0546, 0.1805,  ..., 0.6707, 0.1987, 0.2357],\n",
              "          [0.5867, 0.6110, 0.4215,  ..., 0.4243, 0.4523, 0.2286],\n",
              "          [0.5735, 0.9924, 0.6442,  ..., 0.1416, 0.6184, 0.2919]]],\n",
              "\n",
              "\n",
              "        [[[0.4475, 0.6280, 0.8020,  ..., 0.9272, 0.5176, 0.5579],\n",
              "          [0.3696, 0.0715, 0.2034,  ..., 0.8053, 0.7979, 0.3904],\n",
              "          [0.5581, 0.3905, 0.3749,  ..., 0.4432, 0.3413, 0.2105],\n",
              "          ...,\n",
              "          [0.7967, 0.2181, 0.1670,  ..., 0.4855, 0.6106, 0.9859],\n",
              "          [0.5881, 0.5094, 0.4511,  ..., 0.8364, 0.4740, 0.4518],\n",
              "          [0.9287, 0.1076, 0.5804,  ..., 0.3366, 0.3098, 0.8732]],\n",
              "\n",
              "         [[0.2958, 0.7592, 0.1533,  ..., 0.9014, 0.5832, 0.4709],\n",
              "          [0.4865, 0.8829, 0.4306,  ..., 0.2819, 0.6158, 0.8846],\n",
              "          [0.6271, 0.3599, 0.5983,  ..., 0.0384, 0.0529, 0.0188],\n",
              "          ...,\n",
              "          [0.9593, 0.8234, 0.6654,  ..., 0.7681, 0.6826, 0.5400],\n",
              "          [0.3230, 0.5003, 0.3528,  ..., 0.1316, 0.7584, 0.4856],\n",
              "          [0.3520, 0.5423, 0.1433,  ..., 0.0338, 0.4894, 0.5924]],\n",
              "\n",
              "         [[0.7095, 0.6617, 0.9949,  ..., 0.9207, 0.8019, 0.9200],\n",
              "          [0.6961, 0.5814, 0.6624,  ..., 0.6403, 0.9068, 0.2648],\n",
              "          [0.9793, 0.3543, 0.9672,  ..., 0.7480, 0.8877, 0.3487],\n",
              "          ...,\n",
              "          [0.4782, 0.1543, 0.7653,  ..., 0.1507, 0.7266, 0.6095],\n",
              "          [0.0856, 0.1435, 0.0029,  ..., 0.7635, 0.4170, 0.6128],\n",
              "          [0.7050, 0.6760, 0.1334,  ..., 0.0054, 0.8829, 0.2490]]],\n",
              "\n",
              "\n",
              "        [[[0.0776, 0.7338, 0.9186,  ..., 0.9136, 0.1035, 0.1518],\n",
              "          [0.7673, 0.5068, 0.5038,  ..., 0.8906, 0.0213, 0.3332],\n",
              "          [0.4025, 0.7672, 0.8823,  ..., 0.4681, 0.8835, 0.0785],\n",
              "          ...,\n",
              "          [0.5237, 0.7223, 0.3245,  ..., 0.2988, 0.8593, 0.7122],\n",
              "          [0.4250, 0.2358, 0.2566,  ..., 0.6245, 0.4267, 0.1137],\n",
              "          [0.6995, 0.1585, 0.6940,  ..., 0.4485, 0.0584, 0.7243]],\n",
              "\n",
              "         [[0.0133, 0.0204, 0.2914,  ..., 0.8372, 0.1780, 0.8045],\n",
              "          [0.8166, 0.9404, 0.5065,  ..., 0.9314, 0.3710, 0.5539],\n",
              "          [0.5175, 0.0172, 0.9108,  ..., 0.0404, 0.5017, 0.0185],\n",
              "          ...,\n",
              "          [0.6810, 0.4592, 0.7734,  ..., 0.3271, 0.5400, 0.7790],\n",
              "          [0.9293, 0.3851, 0.4042,  ..., 0.1680, 0.6485, 0.3980],\n",
              "          [0.8500, 0.7144, 0.1626,  ..., 0.6771, 0.5512, 0.4076]],\n",
              "\n",
              "         [[0.2458, 0.8294, 0.2089,  ..., 0.9633, 0.1631, 0.2695],\n",
              "          [0.7439, 0.6981, 0.4771,  ..., 0.9241, 0.6467, 0.1105],\n",
              "          [0.3917, 0.1527, 0.6399,  ..., 0.3177, 0.9360, 0.6345],\n",
              "          ...,\n",
              "          [0.2950, 0.9378, 0.4551,  ..., 0.1648, 0.0118, 0.3267],\n",
              "          [0.2079, 0.2027, 0.0462,  ..., 0.5714, 0.3522, 0.3967],\n",
              "          [0.3225, 0.8456, 0.5945,  ..., 0.3583, 0.8438, 0.7777]]]])"
            ]
          },
          "metadata": {
            "tags": []
          },
          "execution_count": 59
        }
      ]
    },
    {
      "cell_type": "code",
      "metadata": {
        "colab": {
          "base_uri": "https://localhost:8080/"
        },
        "id": "fFtDQ6y7cZtm",
        "outputId": "b8f5dfe1-956a-4f64-ef6d-8e9053a9aa60"
      },
      "source": [
        "my_tensor_one"
      ],
      "execution_count": null,
      "outputs": [
        {
          "output_type": "execute_result",
          "data": {
            "text/plain": [
              "tensor([[0.3534, 0.3293],\n",
              "        [0.2723, 0.6825]])"
            ]
          },
          "metadata": {
            "tags": []
          },
          "execution_count": 60
        }
      ]
    },
    {
      "cell_type": "code",
      "metadata": {
        "colab": {
          "base_uri": "https://localhost:8080/"
        },
        "id": "gxFGlbX8cZk_",
        "outputId": "4cc46f17-dd9d-47e4-b5d7-75392686653d"
      },
      "source": [
        "my_tensor_one.clip(0.3,0.5)"
      ],
      "execution_count": null,
      "outputs": [
        {
          "output_type": "execute_result",
          "data": {
            "text/plain": [
              "tensor([[0.3534, 0.3293],\n",
              "        [0.3000, 0.5000]])"
            ]
          },
          "metadata": {
            "tags": []
          },
          "execution_count": 62
        }
      ]
    },
    {
      "cell_type": "code",
      "metadata": {
        "colab": {
          "base_uri": "https://localhost:8080/"
        },
        "id": "haS36E4JcZhF",
        "outputId": "2a824908-189c-4cd8-a6af-41ff88c90e36"
      },
      "source": [
        "my_tensor_one.cpu().detach().numpy()"
      ],
      "execution_count": null,
      "outputs": [
        {
          "output_type": "execute_result",
          "data": {
            "text/plain": [
              "array([[0.35340738, 0.32933348],\n",
              "       [0.27233607, 0.68246967]], dtype=float32)"
            ]
          },
          "metadata": {
            "tags": []
          },
          "execution_count": 63
        }
      ]
    },
    {
      "cell_type": "code",
      "metadata": {
        "id": "H3x70jg7cXyq"
      },
      "source": [
        ""
      ],
      "execution_count": null,
      "outputs": []
    },
    {
      "cell_type": "code",
      "metadata": {
        "id": "mvw1Hw14dlQZ"
      },
      "source": [
        ""
      ],
      "execution_count": null,
      "outputs": []
    },
    {
      "cell_type": "code",
      "metadata": {
        "id": "opor2ZWtdlGl"
      },
      "source": [
        ""
      ],
      "execution_count": null,
      "outputs": []
    }
  ]
}